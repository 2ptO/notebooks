{
 "cells": [
  {
   "cell_type": "markdown",
   "metadata": {},
   "source": [
    "### Generate Parentheses\n",
    "\n",
    "From: https://leetcode.com/problems/generate-parentheses/description/\n",
    "\n",
    "Given n pairs of parentheses, write a function to generate all combinations of well-formed parentheses.\n",
    "\n",
    "For example, given n = 3, a solution set is:\n",
    "\n",
    "```\n",
    "\n",
    "[\n",
    "  \"((()))\",\n",
    "  \"(()())\",\n",
    "  \"(())()\",\n",
    "  \"()(())\",\n",
    "  \"()()()\"\n",
    "]\n",
    "```\n"
   ]
  },
  {
   "cell_type": "code",
   "execution_count": 12,
   "metadata": {},
   "outputs": [],
   "source": [
    "class Solution(object):\n",
    "    def generateParenthesis(self, n):\n",
    "        \"\"\"\n",
    "        :type n: int\n",
    "        :rtype: List[str]\n",
    "        \"\"\"\n",
    "        # N = 3\n",
    "        # ()()()\n",
    "        # (())()\n",
    "        # ((()))\n",
    "        # ()(())\n",
    "        # (()())\n",
    "        #\n",
    "        # ((()))\n",
    "        # 6 char...\n",
    "        #  permutations of 6 char.. find well formed ones from that.\n",
    "        # a well formed is one.. has matching closing parentheses for every opening parentheses\n",
    "        #\n",
    "        # \n",
    "        if n <= 0:\n",
    "            return []\n",
    "        \n",
    "        if n == 1:\n",
    "            return [\"()\"]\n",
    "        \n",
    "        allPairsOfParentheses = \"(\" * n + \")\" * n\n",
    "        \n",
    "        permutations = self.genPermutations(allPairsOfParentheses)\n",
    "        return list(filter(self.isWellFormed, permutations))\n",
    "        \n",
    "    \n",
    "    def isWellFormed(self, parentheses):\n",
    "        nParentheses = 0\n",
    "        \n",
    "        for char in parentheses:\n",
    "            if char == '(':\n",
    "                nParentheses += 1\n",
    "            else:\n",
    "                # assuming string has only ( or )\n",
    "                nParentheses -= 1\n",
    "                if nParentheses < 0:\n",
    "                    return False\n",
    "                \n",
    "        return nParentheses == 0\n",
    "    \n",
    "    def genPermutations(self, s):\n",
    "        \n",
    "        if len(s) == 1:\n",
    "            return {s}\n",
    "        \n",
    "        if len(s) == 2:\n",
    "            return {s[0] + s[1], s[1] + s[0]}\n",
    "        \n",
    "        permutations = set()\n",
    "        \n",
    "        for i, char in enumerate(s):\n",
    "            remainingText = s[i+1:] + s[:i]\n",
    "            for perm in self.genPermutations(remainingText):\n",
    "                permutations.add(char + perm)\n",
    "        \n",
    "        return permutations\n",
    "    "
   ]
  },
  {
   "cell_type": "code",
   "execution_count": 11,
   "metadata": {
    "scrolled": true
   },
   "outputs": [
    {
     "name": "stdout",
     "output_type": "stream",
     "text": [
      "715 µs ± 11.6 µs per loop (mean ± std. dev. of 7 runs, 1000 loops each)\n",
      "40.5 ms ± 1.45 ms per loop (mean ± std. dev. of 7 runs, 10 loops each)\n",
      "3.5 s ± 30.1 ms per loop (mean ± std. dev. of 7 runs, 1 loop each)\n"
     ]
    }
   ],
   "source": [
    "s = Solution()\n",
    "\n",
    "%timeit s.generateParenthesis(3)\n",
    "%timeit s.generateParenthesis(4)\n",
    "%timeit s.generateParenthesis(5)"
   ]
  },
  {
   "cell_type": "markdown",
   "metadata": {},
   "source": [
    "Brute force solution of generating all permutations and check each one for correctness is super expensive. \n",
    "I think it takes about O(n*n!) time. \n",
    "\n",
    "Sample runs with n = 3, 4, 5 gave the following timings on my machine\n",
    "```\n",
    "715 µs ± 11.6 µs per loop (mean ± std. dev. of 7 runs, 1000 loops each)\n",
    "40.5 ms ± 1.45 ms per loop (mean ± std. dev. of 7 runs, 10 loops each)\n",
    "3.5 s ± 30.1 ms per loop (mean ± std. dev. of 7 runs, 1 loop each)\n",
    "```"
   ]
  },
  {
   "cell_type": "code",
   "execution_count": 30,
   "metadata": {},
   "outputs": [],
   "source": [
    "class Solution(object):\n",
    "    def generateParenthesis(self, n):\n",
    "        \"\"\"\n",
    "        :type n: int\n",
    "        :rtype: List[str]\n",
    "        \"\"\"\n",
    "        # N = 3\n",
    "        # ()()()\n",
    "        # (())()\n",
    "        # ((()))\n",
    "        # ()(())\n",
    "        # (()())\n",
    "        #\n",
    "        # ((()))\n",
    "        # \n",
    "        # using backtracking this time\n",
    "        \n",
    "        validParentheses = []\n",
    "        \n",
    "        def backtrack(s = \"\", nOpen = 0, nClosing = 0):\n",
    "            if len(s) == 2 * n:\n",
    "                validParentheses.append(s)\n",
    "            else:\n",
    "                if nOpen < n:\n",
    "                    backtrack(\"(\" + s, nOpen + 1, nClosing)\n",
    "                \n",
    "                if nClosing < nOpen:\n",
    "                    backtrack(s + \")\", nOpen, nClosing + 1)\n",
    "                    \n",
    "        backtrack()\n",
    "        return validParentheses\n",
    "                "
   ]
  },
  {
   "cell_type": "code",
   "execution_count": 31,
   "metadata": {},
   "outputs": [
    {
     "name": "stdout",
     "output_type": "stream",
     "text": [
      "Timing the backtracking solution...\n",
      "8.38 µs ± 101 ns per loop (mean ± std. dev. of 7 runs, 100000 loops each)\n",
      "23.3 µs ± 822 ns per loop (mean ± std. dev. of 7 runs, 10000 loops each)\n",
      "71.1 µs ± 1.63 µs per loop (mean ± std. dev. of 7 runs, 10000 loops each)\n"
     ]
    }
   ],
   "source": [
    "s = Solution()\n",
    "print(\"Timing the backtracking solution...\")\n",
    "%timeit s.generateParenthesis(3)\n",
    "%timeit s.generateParenthesis(4)\n",
    "%timeit s.generateParenthesis(5)"
   ]
  },
  {
   "cell_type": "markdown",
   "metadata": {},
   "source": [
    "* Number of valid parentheses for given n is the Catalan number (`C(n) = (2n!) / (n+1)!n!`)\n",
    "* Complexity of the brute force is O(n! * n), which is the worst possible one.\n",
    "* Complexity of the backtracking solution is governed by the asymptotic value of the Catalan number, which is derived as `O(4^n/(n*sqrt(n))`"
   ]
  }
 ],
 "metadata": {
  "kernelspec": {
   "display_name": "Python 3",
   "language": "python",
   "name": "python3"
  },
  "language_info": {
   "codemirror_mode": {
    "name": "ipython",
    "version": 3
   },
   "file_extension": ".py",
   "mimetype": "text/x-python",
   "name": "python",
   "nbconvert_exporter": "python",
   "pygments_lexer": "ipython3",
   "version": "3.6.4"
  }
 },
 "nbformat": 4,
 "nbformat_minor": 2
}
