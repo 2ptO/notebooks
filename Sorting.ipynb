{
 "cells": [
  {
   "cell_type": "markdown",
   "metadata": {},
   "source": [
    "Refreshing my memory on sorting algorithms \n",
    "Some basics to consider for all sorting algorithms:\n",
    "\n",
    "* Time complexity\n",
    "* Space complexity\n",
    "* Stability\n",
    "* Locality (memory vs disk)\n",
    "* Recursive vs non-recursive"
   ]
  },
  {
   "cell_type": "markdown",
   "metadata": {},
   "source": [
    "#### Selection sort\n",
    "Perhaps, simplest and most intuitive sort.\n",
    "Find nth minimum in each iteration and pushes to the nth position in the list\n",
    "Runs in O(n^2)"
   ]
  },
  {
   "cell_type": "code",
   "execution_count": 8,
   "metadata": {},
   "outputs": [
    {
     "name": "stdout",
     "output_type": "stream",
     "text": [
      "Numbers sorted using Selection sort: [-49, -33, -1, 14, 139, 33, 900, 3948, 19384]\n"
     ]
    }
   ],
   "source": [
    "def selection_sort(values):\n",
    "    \"\"\" Sort the given list of values following selection sort\"\"\"\n",
    "    if not values:\n",
    "        return\n",
    "    \n",
    "    for i in range(len(values)-1):\n",
    "        min_index = i\n",
    "        for j in range(i+1, len(values)):\n",
    "            if values[j] < values[i]:\n",
    "                min_index = j\n",
    "                \n",
    "        # swap min and the selected position       \n",
    "        values[i], values[min_index] = values[min_index], values[i]\n",
    "\n",
    "numbers = [-1, -33, 139, 14, 900, 33, 19384, 3948, -49]\n",
    "selection_sort(numbers)\n",
    "print(\"Numbers sorted using Selection sort:\", numbers)"
   ]
  },
  {
   "cell_type": "markdown",
   "metadata": {},
   "source": [
    "#### Bubble sort\n",
    "Somewhat reverse of selection sort. In selection sort, we keep finding the lowest value in each iteration and add it to the beginning. Whereas, in bubble sort, the largest value bubbles up to the end in each iteration. It follows the very basic requirement of a sorted values: i.e. value at an index 'j' should be less than the value at index 'j+1'. Runs in O(n^2) time"
   ]
  },
  {
   "cell_type": "code",
   "execution_count": 7,
   "metadata": {},
   "outputs": [
    {
     "name": "stdout",
     "output_type": "stream",
     "text": [
      "Numbers sorted using bubble sort: [-49, -33, -1, 0, 14, 33, 139, 900, 3948, 19384]\n"
     ]
    }
   ],
   "source": [
    "def bubble_sort(values):\n",
    "    \"\"\" Sort the given list of values following bubble sort\"\"\"\n",
    "    if not values:\n",
    "        return\n",
    "    \n",
    "    for i in range(len(values)-1):\n",
    "        for j in range(len(values)-1-i): # Values between n-i..n will stay sorted in each iteration\n",
    "            if values[j] > values[j+1]:\n",
    "                values[j], values[j+1] = values[j+1], values[j]\n",
    "                # can be slightly optimized for pre-sorted arrays\n",
    "                # if no value is swapped in the inner loop, it implies\n",
    "                # that values are already sorted. So we can break\n",
    "                # immediately and save another n-2 nested loops.\n",
    "                # That would yield O(n) runtime for inputs which are\n",
    "                # already sorted.\n",
    "                \n",
    "numbers = [-1, -33, 139, 14, 0, 900, 33, 19384, 3948, -49]\n",
    "bubble_sort(numbers)\n",
    "print(\"Numbers sorted using bubble sort:\", numbers)"
   ]
  },
  {
   "cell_type": "markdown",
   "metadata": {},
   "source": [
    "#### Insertion sort\n",
    "Divides the list into sorted and unsorted sections, pick an item from the unsorted and insert into the sorted section at the place where that item belongs to. Like bubble sort, the best case could be O(n) if the list is already sorted. Worst case is O(n^2). On average case, the number of comparisons and swaps are lesser compared to bubble sort and insertion sort."
   ]
  },
  {
   "cell_type": "code",
   "execution_count": 6,
   "metadata": {},
   "outputs": [
    {
     "name": "stdout",
     "output_type": "stream",
     "text": [
      "Numbers sorted using insertion sort: [-49, -33, -1, 0, 14, 33, 139, 900, 3948, 19384]\n"
     ]
    }
   ],
   "source": [
    "def insertion_sort(values):\n",
    "    \"\"\" Sort a given list of values following insertion sort\"\"\"\n",
    "    for i in range(len(values)-1):\n",
    "        hole = i + 1\n",
    "        value_at_hole = values[hole]\n",
    "        while hole > 0 and value_at_hole < values[hole-1]:\n",
    "            values[hole] = values[hole-1]\n",
    "            hole -= 1\n",
    "            \n",
    "        values[hole] = value_at_hole\n",
    "\n",
    "numbers = [-1, -33, 139, 14, 0, 900, 33, 19384, 3948, -49]\n",
    "insertion_sort(numbers)\n",
    "print(\"Numbers sorted using insertion sort:\", numbers)"
   ]
  },
  {
   "cell_type": "markdown",
   "metadata": {},
   "source": [
    "#### Merge sort\n",
    "Divide and conquer strategy..divide the data into half at each stage until the data can't be split anymore. then work backwards and merge the two sorted halves. \n",
    "\n",
    "Stable sort..Incurs O(n) space (since only one half will be active at any given point...space requirement at level0 n/2, level1 - n/4, so on and so fort), O(n * log(n)) time. "
   ]
  },
  {
   "cell_type": "code",
   "execution_count": 73,
   "metadata": {},
   "outputs": [
    {
     "name": "stdout",
     "output_type": "stream",
     "text": [
      "Numbers sorted using merge sort: [-49, -33, -12, -1, 0, 14, 33, 39, 139, 900, 3948, 19384, 30289]\n"
     ]
    }
   ],
   "source": [
    "def mergesort(data):    \n",
    "    if len(data) < 2:\n",
    "        # List less than 2 items is already sorted anyway\n",
    "        return data\n",
    "    \n",
    "    # Split the data into two halves\n",
    "    middle = int(len(data) / 2)\n",
    "    left = data[:middle]\n",
    "    right = data[middle:]\n",
    "    \n",
    "    # Sort the two halves\n",
    "    sorted_left = mergesort(left)\n",
    "    sorted_right = mergesort(right)\n",
    "    \n",
    "    # Merge the two sorted halves\n",
    "    merged = merge(sorted_left, sorted_right)\n",
    "    \n",
    "    return merged\n",
    "    \n",
    "def merge(left, right):\n",
    "    \"\"\" Merge two sorted arrays \"\"\"\n",
    "    merged = []\n",
    "    left_index = right_index = 0\n",
    "    \n",
    "    while left_index < len(left) and right_index < len(right):\n",
    "        if left[left_index] <= right[right_index]:\n",
    "            merged.append(left[left_index])\n",
    "            left_index += 1\n",
    "        else:\n",
    "            merged.append(right[right_index])\n",
    "            right_index += 1\n",
    "    \n",
    "    while left_index < len(left):\n",
    "        merged.append(left[left_index])\n",
    "        left_index += 1\n",
    "    \n",
    "    while right_index < len(right):\n",
    "        merged.append(right[right_index])\n",
    "        right_index += 1\n",
    "    \n",
    "    return merged\n",
    "    \n",
    "\n",
    "\n",
    "numbers = [-1, -33, 139, 14, 0, 900, 33, 19384, 3948, -49, 30289, -12, 39]\n",
    "print(\"Numbers sorted using merge sort:\", mergesort(numbers))"
   ]
  },
  {
   "cell_type": "markdown",
   "metadata": {},
   "source": [
    "#### Quicksort\n",
    "Another divide and conquer based sorting.\n",
    "Pick a pivot, find its spot in the list in a way that all values left of the pivot value is less than the pivot and all values right of the pivot is greater than the pivot. IOW, partition the list with a pivot\n",
    "Sort the values which are to the left of the pivot\n",
    "Sort the values which are to the right of the pivot\n",
    "Repeat\n",
    "\n",
    "* Recursive\n",
    "* Not a stable sort\n",
    "* Average case: O(n * log(n))\n",
    "* Worst case: O(n^2) # if all items are identical or list is sorted in the reverse order\n",
    "* Pivot selection is very important. Algorithm can be optimized further based on the pivot selection."
   ]
  },
  {
   "cell_type": "code",
   "execution_count": 23,
   "metadata": {},
   "outputs": [
    {
     "name": "stdout",
     "output_type": "stream",
     "text": [
      "Numbers sorted using quick sort: [-49, -33, -1, 0, 14, 33, 139, 900, 3948, 19384]\n"
     ]
    }
   ],
   "source": [
    "def quicksort(data):\n",
    "    _quicksort(data, 0, len(data) - 1)\n",
    "\n",
    "def _quicksort(data, low, high):\n",
    "    if low < high: # must have at least two elements to sort\n",
    "        partition_index = _partition(data, low, high)\n",
    "        _quicksort(data, low, partition_index - 1)\n",
    "        _quicksort(data, partition_index + 1, high)\n",
    "\n",
    "def _partition(data, low, high):\n",
    "    pivot = data[high]\n",
    "    partition_index = low\n",
    "    \n",
    "    for i in range(low, high):\n",
    "        if data[i] < pivot:\n",
    "            # Found a value lesser than pivot. Bring it forward\n",
    "            data[i], data[partition_index] = data[partition_index], data[i]\n",
    "            \n",
    "            # Push the partition_index backwards\n",
    "            partition_index += 1\n",
    "    \n",
    "    # Bring the pivot value to the place it deserves to be\n",
    "    data[partition_index], data[high] = data[high], data[partition_index]\n",
    "    return partition_index\n",
    "\n",
    "numbers = [-1, -33, 139, 14, 0, 900, 33, 19384, 3948, -49]\n",
    "quicksort(numbers)\n",
    "print(\"Numbers sorted using quick sort:\", numbers)"
   ]
  },
  {
   "cell_type": "code",
   "execution_count": null,
   "metadata": {},
   "outputs": [],
   "source": []
  }
 ],
 "metadata": {
  "kernelspec": {
   "display_name": "Python 3",
   "language": "python",
   "name": "python3"
  },
  "language_info": {
   "codemirror_mode": {
    "name": "ipython",
    "version": 3
   },
   "file_extension": ".py",
   "mimetype": "text/x-python",
   "name": "python",
   "nbconvert_exporter": "python",
   "pygments_lexer": "ipython3",
   "version": "3.6.4"
  }
 },
 "nbformat": 4,
 "nbformat_minor": 2
}
