{
 "cells": [
  {
   "cell_type": "markdown",
   "metadata": {},
   "source": [
    "### Counting Bits\n",
    "\n",
    "From: https://leetcode.com/problems/counting-bits/description/\n",
    "\n",
    "Given a non negative integer number num. For every numbers i in the range 0 ≤ i ≤ num calculate the number of 1's in their binary representation and return them as an array.\n",
    "\n",
    "Example:\n",
    "`For num = 5 you should return [0,1,1,2,1,2].`\n",
    "\n",
    "Follow up:\n",
    "\n",
    "It is very easy to come up with a solution with run time O(n*sizeof(integer)). But can you do it in linear time O(n) /possibly in a single pass?\n",
    "Space complexity should be O(n).\n",
    "Can you do it like a boss? Do it without using any builtin function like __builtin_popcount in c++ or in any other language.\n"
   ]
  },
  {
   "cell_type": "code",
   "execution_count": 10,
   "metadata": {},
   "outputs": [],
   "source": [
    "class Solution(object):\n",
    "    def countBits(self, num):\n",
    "        \"\"\"\n",
    "        :type num: int\n",
    "        :rtype: List[int]\n",
    "        \"\"\"\n",
    "        # for every number from 0..num\n",
    "        #    while num != 0:\n",
    "        #        if (num & 1): ones += 1\n",
    "        #        num = num >> 1\n",
    "        # start: 5:15\n",
    "        # end: 6:15\n",
    "        \n",
    "        # 1 ->  01\n",
    "        # 2 ->  10\n",
    "        # 3 ->  11\n",
    "        \n",
    "        # find the base power of 2 for a given range\n",
    "        # all powers of 2 have only one 1..  last number with only one 1 can be treated as base2\n",
    "        # other ways to identify power of 2? can use built in math function?\n",
    "        # 4 -> 100 -> 1 + number_of_ones in 0 -> 4 - 4\n",
    "        # 5 -> 101 -> 1 + number_of_ones in 1 -> 5 - 4\n",
    "        # 6 -> 110 -> 1 + number_of_ones in 2 -> 6 - 4\n",
    "        # 7 -> 111 -> 1 + number_of_ones in 3 -> 7 - 4\n",
    "        \n",
    "        # 8 -> 1000  \n",
    "        # 9 -> 1001\n",
    "        # 10 -> 1010\n",
    "        # 11 -> 1011\n",
    "        # 12 -> 1100\n",
    "        # 13 -> 1101\n",
    "        # 14 -> 1110\n",
    "        # 15 -> 1111\n",
    "        \n",
    "        # 16 -> base = 16\n",
    "        # 17 -> 10001 -> 17 - 16 = 1, 1 + ones[1]\n",
    "        # 18 -> 10010 -> 18 - 16 = 2, 1 + ones[2] = 1 + 1 = 2\n",
    "        \n",
    "        \n",
    "        ones = [0 for _ in range(num + 1)]\n",
    "        \n",
    "        last_power_of_two = 1\n",
    "\n",
    "        for n in range(1, num+1):\n",
    "            # update last_power_of_two before updating ones    \n",
    "            if n >= last_power_of_two*2:\n",
    "                last_power_of_two *= 2\n",
    "            \n",
    "            ones[n] = 1 + ones[n - last_power_of_two]\n",
    "        \n",
    "        return ones\n",
    "            \n",
    "    \n",
    "    def countBitsBruteForce(self, num):\n",
    "        \"\"\" Brute force solution for the given problem \"\"\"\n",
    "        ones = [0 for _ in range(num + 1)]\n",
    "        \n",
    "        # This runs in O(num * sizeof(num))\n",
    "        for n in range(1, num + 1):\n",
    "            cur = n\n",
    "            while cur > 0:\n",
    "                if cur & 1:\n",
    "                    ones[n] += 1\n",
    "                cur = cur >> 1\n",
    "        \n",
    "        return ones\n",
    "    \n",
    "    \n",
    "    \n",
    "                "
   ]
  },
  {
   "cell_type": "code",
   "execution_count": 11,
   "metadata": {},
   "outputs": [
    {
     "name": "stdout",
     "output_type": "stream",
     "text": [
      "[0]\n",
      "[0, 1]\n",
      "[0, 1, 1, 2, 1, 2, 2, 3, 1, 2]\n"
     ]
    }
   ],
   "source": [
    "# Testing the solution\n",
    "test_num = 9\n",
    "test_output = [0, 1, 1, 2, 1, 2]\n",
    "\n",
    "s = Solution()\n",
    "print(s.countBits(0))\n",
    "print(s.countBits(1))\n",
    "print(s.countBits(test_num))"
   ]
  }
 ],
 "metadata": {
  "kernelspec": {
   "display_name": "Python 3",
   "language": "python",
   "name": "python3"
  },
  "language_info": {
   "codemirror_mode": {
    "name": "ipython",
    "version": 3
   },
   "file_extension": ".py",
   "mimetype": "text/x-python",
   "name": "python",
   "nbconvert_exporter": "python",
   "pygments_lexer": "ipython3",
   "version": "3.6.4"
  }
 },
 "nbformat": 4,
 "nbformat_minor": 2
}
