{
 "cells": [
  {
   "cell_type": "markdown",
   "metadata": {},
   "source": [
    "Refreshing my memory on sorting algorithms \n",
    "Some basics to consider for all sorting algorithms:\n",
    "\n",
    "* Time complexity\n",
    "* Space complexity\n",
    "* Stability\n",
    "* Locality (memory vs disk)\n",
    "* Recursive vs non-recursive"
   ]
  },
  {
   "cell_type": "markdown",
   "metadata": {},
   "source": [
    "#### Selection sort\n",
    "Perhaps, simplest and most intuitive sort.\n",
    "Find nth minimum in each iteration and pushes to the nth position in the list\n",
    "Runs in O(n^2)"
   ]
  },
  {
   "cell_type": "code",
   "execution_count": 8,
   "metadata": {},
   "outputs": [
    {
     "name": "stdout",
     "output_type": "stream",
     "text": [
      "Numbers sorted using Selection sort: [-49, -33, -1, 14, 139, 33, 900, 3948, 19384]\n"
     ]
    }
   ],
   "source": [
    "def selection_sort(values):\n",
    "    \"\"\" Sort the given list of values following selection sort\"\"\"\n",
    "    if not values:\n",
    "        return\n",
    "    \n",
    "    for i in range(len(values)-1):\n",
    "        min_index = i\n",
    "        for j in range(i+1, len(values)):\n",
    "            if values[j] < values[i]:\n",
    "                min_index = j\n",
    "                \n",
    "        # swap min and the selected position       \n",
    "        values[i], values[min_index] = values[min_index], values[i]\n",
    "\n",
    "numbers = [-1, -33, 139, 14, 900, 33, 19384, 3948, -49]\n",
    "selection_sort(numbers)\n",
    "print(\"Numbers sorted using Selection sort:\", numbers)"
   ]
  },
  {
   "cell_type": "markdown",
   "metadata": {},
   "source": [
    "#### Bubble sort\n",
    "Somewhat reverse of selection sort. In selection sort, we keep finding the lowest value in each iteration and add it to the beginning. Whereas, in bubble sort, the largest value bubbles up to the end in each iteration. It follows the very basic requirement of a sorted values: i.e. value at an index 'j' should be less than the value at index 'j+1'. Runs in O(n^2) time"
   ]
  },
  {
   "cell_type": "code",
   "execution_count": 7,
   "metadata": {},
   "outputs": [
    {
     "name": "stdout",
     "output_type": "stream",
     "text": [
      "Numbers sorted using bubble sort: [-49, -33, -1, 0, 14, 33, 139, 900, 3948, 19384]\n"
     ]
    }
   ],
   "source": [
    "def bubble_sort(values):\n",
    "    \"\"\" Sort the given list of values following bubble sort\"\"\"\n",
    "    if not values:\n",
    "        return\n",
    "    \n",
    "    for i in range(len(values)-1):\n",
    "        for j in range(len(values)-1-i): # Values between n-i..n will stay sorted in each iteration\n",
    "            if values[j] > values[j+1]:\n",
    "                values[j], values[j+1] = values[j+1], values[j]\n",
    "                # can be slightly optimized for pre-sorted arrays\n",
    "                # if no value is swapped in the inner loop, it implies\n",
    "                # that values are already sorted. So we can break\n",
    "                # immediately and save another n-2 nested loops.\n",
    "                # That would yield O(n) runtime for inputs which are\n",
    "                # already sorted.\n",
    "                \n",
    "numbers = [-1, -33, 139, 14, 0, 900, 33, 19384, 3948, -49]\n",
    "bubble_sort(numbers)\n",
    "print(\"Numbers sorted using bubble sort:\", numbers)"
   ]
  },
  {
   "cell_type": "markdown",
   "metadata": {},
   "source": [
    "#### Insertion sort\n",
    "Divides the list into sorted and unsorted sections, pick an item from the unsorted and insert into the sorted section at the place where that item belongs to. Like bubble sort, the best case could be O(n) if the list is already sorted. Worst case is O(n^2). On average case, the number of comparisons and swaps are lesser compared to bubble sort and insertion sort."
   ]
  },
  {
   "cell_type": "code",
   "execution_count": 6,
   "metadata": {},
   "outputs": [
    {
     "name": "stdout",
     "output_type": "stream",
     "text": [
      "Numbers sorted using insertion sort: [-49, -33, -1, 0, 14, 33, 139, 900, 3948, 19384]\n"
     ]
    }
   ],
   "source": [
    "def insertion_sort(values):\n",
    "    \"\"\" Sort a given list of values following insertion sort\"\"\"\n",
    "    for i in range(len(values)-1):\n",
    "        hole = i + 1\n",
    "        value_at_hole = values[hole]\n",
    "        while hole > 0 and value_at_hole < values[hole-1]:\n",
    "            values[hole] = values[hole-1]\n",
    "            hole -= 1\n",
    "            \n",
    "        values[hole] = value_at_hole\n",
    "\n",
    "numbers = [-1, -33, 139, 14, 0, 900, 33, 19384, 3948, -49]\n",
    "insertion_sort(numbers)\n",
    "print(\"Numbers sorted using insertion sort:\", numbers)"
   ]
  }
 ],
 "metadata": {
  "kernelspec": {
   "display_name": "Python 3",
   "language": "python",
   "name": "python3"
  },
  "language_info": {
   "codemirror_mode": {
    "name": "ipython",
    "version": 3
   },
   "file_extension": ".py",
   "mimetype": "text/x-python",
   "name": "python",
   "nbconvert_exporter": "python",
   "pygments_lexer": "ipython3",
   "version": "3.6.4"
  }
 },
 "nbformat": 4,
 "nbformat_minor": 2
}
