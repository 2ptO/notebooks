{
 "cells": [
  {
   "cell_type": "code",
   "execution_count": 1,
   "metadata": {},
   "outputs": [
    {
     "ename": "AttributeError",
     "evalue": "'Solution' object has no attribute 'removeInvalidParantheses'",
     "output_type": "error",
     "traceback": [
      "\u001b[0;31m---------------------------------------------------------------------------\u001b[0m",
      "\u001b[0;31mAttributeError\u001b[0m                            Traceback (most recent call last)",
      "\u001b[0;32m<ipython-input-1-e4566504e443>\u001b[0m in \u001b[0;36m<module>\u001b[0;34m()\u001b[0m\n\u001b[1;32m     33\u001b[0m \u001b[0ms\u001b[0m \u001b[0;34m=\u001b[0m \u001b[0mSolution\u001b[0m\u001b[0;34m(\u001b[0m\u001b[0;34m)\u001b[0m\u001b[0;34m\u001b[0m\u001b[0m\n\u001b[1;32m     34\u001b[0m \u001b[0mstring\u001b[0m \u001b[0;34m=\u001b[0m \u001b[0;34m\"()())()\"\u001b[0m\u001b[0;34m\u001b[0m\u001b[0m\n\u001b[0;32m---> 35\u001b[0;31m \u001b[0mprint\u001b[0m\u001b[0;34m(\u001b[0m\u001b[0ms\u001b[0m\u001b[0;34m.\u001b[0m\u001b[0mremoveInvalidParantheses\u001b[0m\u001b[0;34m(\u001b[0m\u001b[0mstring\u001b[0m\u001b[0;34m)\u001b[0m\u001b[0;34m)\u001b[0m\u001b[0;34m\u001b[0m\u001b[0m\n\u001b[0m",
      "\u001b[0;31mAttributeError\u001b[0m: 'Solution' object has no attribute 'removeInvalidParantheses'"
     ]
    }
   ],
   "source": [
    "# https://leetcode.com/problems/remove-invalid-parentheses/description/\n",
    "\n",
    "class Solution(object):\n",
    "    def removeInvalidParentheses(self, s):\n",
    "        \"\"\"\n",
    "        :type s: str\n",
    "        :rtype: List[str]\n",
    "        \"\"\"\n",
    "        def hasValidParentheses(string):\n",
    "            # can use a stack or simple counter to validate open and closing parentheses\n",
    "            counter = 0\n",
    "            for char in string:\n",
    "                if char == '(':\n",
    "                    counter += 1\n",
    "                elif char == ')':\n",
    "                    counter -= 1\n",
    "                    if counter < 0:\n",
    "                        # found a closing parentheses without a matching open parenthesis\n",
    "                        return False\n",
    "            return (counter == 0)\n",
    "        \n",
    "        # one way to validate is generate all possible permutation of the given text and\n",
    "        # validate each of them\n",
    "        level = {s}\n",
    "        while True:\n",
    "            validStrings = list(filter(hasValidParentheses, level))\n",
    "            if validStrings:\n",
    "                return validStrings\n",
    "            level = {s[:i] + s[i+1:] for s in level for i in range(len(s))}\n",
    "        \n",
    "        return list(level)\n",
    "\n",
    "s = Solution()\n",
    "string = \"()())()\"\n",
    "print(s.removeInvalidParentheses(string))"
   ]
  },
  {
   "cell_type": "code",
   "execution_count": null,
   "metadata": {},
   "outputs": [],
   "source": []
  }
 ],
 "metadata": {
  "kernelspec": {
   "display_name": "Python 3",
   "language": "python",
   "name": "python3"
  },
  "language_info": {
   "codemirror_mode": {
    "name": "ipython",
    "version": 3
   },
   "file_extension": ".py",
   "mimetype": "text/x-python",
   "name": "python",
   "nbconvert_exporter": "python",
   "pygments_lexer": "ipython3",
   "version": "3.6.4"
  }
 },
 "nbformat": 4,
 "nbformat_minor": 2
}
