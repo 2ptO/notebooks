{
 "cells": [
  {
   "cell_type": "code",
   "execution_count": 8,
   "metadata": {},
   "outputs": [
    {
     "name": "stdout",
     "output_type": "stream",
     "text": [
      "6\n",
      "-1\n",
      "2\n",
      "3\n",
      "4\n",
      "8\n",
      "10\n"
     ]
    }
   ],
   "source": [
    "import queue\n",
    "\n",
    "pq = queue.PriorityQueue()\n",
    "\n",
    "nums = [10, -1, 3, 4, 8, 2]\n",
    "for num in nums:\n",
    "    pq.put(num)\n",
    "\n",
    "print(pq.qsize())\n",
    "while not pq.empty():\n",
    "    print(pq.get())"
   ]
  },
  {
   "cell_type": "code",
   "execution_count": 7,
   "metadata": {},
   "outputs": [
    {
     "name": "stdout",
     "output_type": "stream",
     "text": [
      "[(0, 'sleep'), (1, 'clean'), (4, 'work'), (10, 'TV'), (2, 'exercise')]\n",
      "Doing jobs in the order of importance\n",
      "(0, 'sleep')\n",
      "(1, 'clean')\n",
      "(2, 'exercise')\n",
      "(4, 'work')\n",
      "(10, 'TV')\n"
     ]
    }
   ],
   "source": [
    "import heapq\n",
    "\n",
    "jobs = [(1, \"clean\"), (0, \"sleep\"), (4, \"work\"), (10, \"TV\")]\n",
    "heapq.heapify(jobs)\n",
    "heapq.heappush(jobs, (2, \"exercise\"))\n",
    "print(jobs)\n",
    "print(\"Doing jobs in the order of importance\")\n",
    "num_jobs = len(jobs)\n",
    "for _ in range(num_jobs):\n",
    "    print(heapq.heappop(jobs))\n",
    "    "
   ]
  }
 ],
 "metadata": {
  "kernelspec": {
   "display_name": "Python 3",
   "language": "python",
   "name": "python3"
  },
  "language_info": {
   "codemirror_mode": {
    "name": "ipython",
    "version": 3
   },
   "file_extension": ".py",
   "mimetype": "text/x-python",
   "name": "python",
   "nbconvert_exporter": "python",
   "pygments_lexer": "ipython3",
   "version": "3.6.4"
  }
 },
 "nbformat": 4,
 "nbformat_minor": 2
}
