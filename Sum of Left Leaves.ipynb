{
 "cells": [
  {
   "cell_type": "markdown",
   "metadata": {},
   "source": [
    "### [Sum of Left Leaves](https://leetcode.com/problems/sum-of-left-leaves/description/)\n",
    "\n",
    "Find the sum of all left leaves in a given binary tree.\n",
    "\n",
    "Example:\n",
    "\n",
    "```\n",
    "    3\n",
    "   / \\\n",
    "  9  20\n",
    "    /  \\\n",
    "   15   7\n",
    "\n",
    "There are two left leaves in the binary tree, with values 9 and 15 respectively. Return 24\n",
    "```"
   ]
  },
  {
   "cell_type": "code",
   "execution_count": 1,
   "metadata": {},
   "outputs": [],
   "source": [
    "# Definition for a binary tree node.\n",
    "class TreeNode:\n",
    "    def __init__(self, x):\n",
    "        self.val = x\n",
    "        self.left = None\n",
    "        self.right = None\n",
    "\n",
    "class Solution:\n",
    "    def sumOfLeftLeaves(self, root):\n",
    "        \"\"\"\n",
    "        :type root: TreeNode\n",
    "        :rtype: int\n",
    "        \"\"\"\n",
    "        \n",
    "        def isLeaf(node):\n",
    "            return (node and (not node.left and not node.right))\n",
    "        \n",
    "        if not root:\n",
    "            return 0\n",
    "        \n",
    "        stack = [root]\n",
    "        \n",
    "        leftLeafSum = 0\n",
    "        \n",
    "        # using iterative pre-order\n",
    "        while stack:\n",
    "            node = stack.pop()\n",
    "            \n",
    "            # process the ndoe\n",
    "            if node.right:\n",
    "                stack.append(node.right)\n",
    "                \n",
    "            if node.left:\n",
    "                stack.append(node.left)\n",
    "                # count the sum of left leaves only\n",
    "                if isLeaf(node.left):\n",
    "                    leftLeafSum += node.left.val\n",
    "        \n",
    "        return leftLeafSum\n",
    "        \n",
    "        "
   ]
  },
  {
   "cell_type": "code",
   "execution_count": null,
   "metadata": {},
   "outputs": [],
   "source": [
    "testInputs = {\n",
    "    \"3,9,20,null,null,15,7\" : 24,\n",
    "    \"3,9,20,10,null,15,7\", 25,\n",
    "    \"3,9,20,10,null,15,7, 11, 10, 12\" : 23,\n",
    "    \"3,9\" : 9\n",
    "}"
   ]
  }
 ],
 "metadata": {
  "kernelspec": {
   "display_name": "Python 3",
   "language": "python",
   "name": "python3"
  },
  "language_info": {
   "codemirror_mode": {
    "name": "ipython",
    "version": 3
   },
   "file_extension": ".py",
   "mimetype": "text/x-python",
   "name": "python",
   "nbconvert_exporter": "python",
   "pygments_lexer": "ipython3",
   "version": "3.6.4"
  }
 },
 "nbformat": 4,
 "nbformat_minor": 2
}
