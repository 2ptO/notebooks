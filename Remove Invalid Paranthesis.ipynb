{
 "cells": [
  {
   "cell_type": "code",
   "execution_count": 14,
   "metadata": {},
   "outputs": [
    {
     "name": "stdout",
     "output_type": "stream",
     "text": [
      "Running..\n",
      "['()())())'] .... []\n",
      "{'(())())', '()()())', '()())()', ')())())', '()))())', '()())))'} .... []\n",
      "{'())())', '()())(', '()))))', '(())))', ')))())', '(()())', '()(())', '()))()', '()()))', '(())()', ')())()', ')()())', ')())))', '()()()'} .... ['(()())', '()(())', '(())()', '()()()']\n",
      "['(()())', '()(())', '(())()', '()()()']\n"
     ]
    }
   ],
   "source": [
    "# https://leetcode.com/problems/remove-invalid-parentheses/description/\n",
    "\n",
    "class Solution(object):\n",
    "    def removeInvalidParentheses(self, s):\n",
    "        \"\"\"\n",
    "        :type s: str\n",
    "        :rtype: List[str]\n",
    "        \"\"\"\n",
    "        def hasValidParentheses(string):\n",
    "            # can use a stack or simple counter to validate open and closing parentheses\n",
    "            counter = 0\n",
    "            for char in string:\n",
    "                if char == '(':\n",
    "                    counter += 1\n",
    "                elif char == ')':\n",
    "                    counter -= 1\n",
    "                    if counter < 0:\n",
    "                        # found a closing parentheses without a matching open parenthesis\n",
    "                        return False\n",
    "            return (counter == 0)\n",
    "        \n",
    "        # one way to validate is generate all possible permutation of the given text and\n",
    "        # validate each of them\n",
    "        level = [s]\n",
    "        while True:\n",
    "            validStrings = list(filter(hasValidParentheses, level))\n",
    "            print(level, \"....\", validStrings)\n",
    "            if validStrings:\n",
    "                return validStrings\n",
    "            level = {s[:i] + s[i+1:] for s in level for i in range(len(s))}\n",
    "        \n",
    "        return list(level)\n",
    "\n",
    "s = Solution()\n",
    "print(\"Running..\")\n",
    "string = \"()())())\"\n",
    "print(s.removeInvalidParentheses(string))"
   ]
  },
  {
   "cell_type": "code",
   "execution_count": null,
   "metadata": {},
   "outputs": [],
   "source": []
  },
  {
   "cell_type": "code",
   "execution_count": null,
   "metadata": {},
   "outputs": [],
   "source": []
  },
  {
   "cell_type": "code",
   "execution_count": null,
   "metadata": {},
   "outputs": [],
   "source": []
  }
 ],
 "metadata": {
  "kernelspec": {
   "display_name": "Python 3",
   "language": "python",
   "name": "python3"
  },
  "language_info": {
   "codemirror_mode": {
    "name": "ipython",
    "version": 3
   },
   "file_extension": ".py",
   "mimetype": "text/x-python",
   "name": "python",
   "nbconvert_exporter": "python",
   "pygments_lexer": "ipython3",
   "version": "3.6.4"
  }
 },
 "nbformat": 4,
 "nbformat_minor": 2
}
