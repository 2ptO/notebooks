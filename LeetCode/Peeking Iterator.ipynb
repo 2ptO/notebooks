{
 "cells": [
  {
   "cell_type": "markdown",
   "metadata": {},
   "source": [
    "### [Peeking Iterator](https://leetcode.com/problems/peeking-iterator/)\n",
    "\n",
    "Given an Iterator class interface with methods: next() and hasNext(), design and implement a PeekingIterator that support the peek() operation -- it essentially peek() at the element that will be returned by the next call to next().\n",
    "\n",
    "**Example:**\n",
    "\n",
    "```\n",
    "Assume that the iterator is initialized to the beginning of the list: [1,2,3].\n",
    "\n",
    "Call next() gets you 1, the first element in the list.\n",
    "Now you call peek() and it returns 2, the next element. Calling next() after that still return 2. \n",
    "You call next() the final time and it returns 3, the last element. \n",
    "Calling hasNext() after that should return false.\n",
    "```\n",
    "\n",
    "**Follow up:** How would you extend your design to be generic and work with all types, not just integer?"
   ]
  },
  {
   "cell_type": "markdown",
   "metadata": {},
   "source": [
    "Cleaned up the old version..the new one looks much cleaner"
   ]
  },
  {
   "cell_type": "code",
   "execution_count": 1,
   "metadata": {},
   "outputs": [],
   "source": [
    "# Below is the interface for Iterator, which is already defined for you.\n",
    "#\n",
    "# class Iterator:\n",
    "#     def __init__(self, nums):\n",
    "#         \"\"\"\n",
    "#         Initializes an iterator object to the beginning of a list.\n",
    "#         :type nums: List[int]\n",
    "#         \"\"\"\n",
    "#\n",
    "#     def hasNext(self):\n",
    "#         \"\"\"\n",
    "#         Returns true if the iteration has more elements.\n",
    "#         :rtype: bool\n",
    "#         \"\"\"\n",
    "#\n",
    "#     def next(self):\n",
    "#         \"\"\"\n",
    "#         Returns the next element in the iteration.\n",
    "#         :rtype: int\n",
    "#         \"\"\"\n",
    "\n",
    "class PeekingIterator:\n",
    "    def __init__(self, iterator):\n",
    "        \"\"\"\n",
    "        Initialize your data structure here.\n",
    "        :type iterator: Iterator\n",
    "        \"\"\"\n",
    "        \n",
    "        # since the input is also iterator, we don't know the\n",
    "        # length of items in advance.\n",
    "        # so need some way of tracking the next element\n",
    "        # without removing it from the iterator..cache\n",
    "        # the next item always..\n",
    "        self.iterator = iterator\n",
    "        self.next_ = None\n",
    "        self._updateNext()\n",
    "    \n",
    "    def _updateNext(self):\n",
    "        if self.iterator.hasNext():\n",
    "            self.next_ = self.iterator.next()\n",
    "        else:\n",
    "            self.next_ = None\n",
    "        \n",
    "    def peek(self):\n",
    "        \"\"\"\n",
    "        Returns the next element in the iteration without advancing the iterator.\n",
    "        :rtype: int\n",
    "        \"\"\"\n",
    "        return self.next_\n",
    "        \n",
    "    def next(self):\n",
    "        \"\"\"\n",
    "        :rtype: int\n",
    "        \"\"\"\n",
    "        curr = self.next_\n",
    "        self._updateNext()\n",
    "        return curr\n",
    "\n",
    "    def hasNext(self):\n",
    "        \"\"\"\n",
    "        :rtype: bool\n",
    "        \"\"\"\n",
    "        return self.next_ != None\n",
    "        \n",
    "\n",
    "# Your PeekingIterator object will be instantiated and called as such:\n",
    "# iter = PeekingIterator(Iterator(nums))\n",
    "# while iter.hasNext():\n",
    "#     val = iter.peek()   # Get the next element but not advance the iterator.\n",
    "#     iter.next()         # Should return the same value as [val]."
   ]
  },
  {
   "cell_type": "markdown",
   "metadata": {},
   "source": [
    "Didn't write the tests here due to custom Iterator class"
   ]
  }
 ],
 "metadata": {
  "kernelspec": {
   "display_name": "Python 3",
   "language": "python",
   "name": "python3"
  },
  "language_info": {
   "codemirror_mode": {
    "name": "ipython",
    "version": 3
   },
   "file_extension": ".py",
   "mimetype": "text/x-python",
   "name": "python",
   "nbconvert_exporter": "python",
   "pygments_lexer": "ipython3",
   "version": "3.6.6"
  }
 },
 "nbformat": 4,
 "nbformat_minor": 2
}
