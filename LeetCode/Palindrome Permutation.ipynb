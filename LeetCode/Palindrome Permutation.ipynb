{
 "cells": [
  {
   "cell_type": "markdown",
   "metadata": {},
   "source": [
    "### [Palindrome Permutation](https://leetcode.com/problems/palindrome-permutation/)\n",
    "\n",
    "Given a string, determine if a permutation of the string could form a palindrome.\n",
    "\n",
    "Example 1:\n",
    "```\n",
    "Input: \"code\"\n",
    "Output: false\n",
    "```\n",
    "Example 2:\n",
    "```\n",
    "Input: \"aab\"\n",
    "Output: true\n",
    "```\n",
    "Example 3:\n",
    "```\n",
    "Input: \"carerac\"\n",
    "Output: true\n",
    "```"
   ]
  },
  {
   "cell_type": "code",
   "execution_count": 2,
   "metadata": {},
   "outputs": [],
   "source": [
    "from collections import Counter\n",
    "\n",
    "class Solution:\n",
    "    def canPermutePalindrome(self, s: str) -> bool:\n",
    "        # for a palindrome\n",
    "        #   can have even number of characters\n",
    "        #   or odd..where only 1 char can be odd..rest should be even\n",
    "        \n",
    "        # asked to find whether any permutation of a string can form a palindrome\n",
    "        #   we can generate all different permutations..and check each one is a palindrome\n",
    "        #   \n",
    "        # or \n",
    "        # find the frequency of each char.\n",
    "        #   if frequency of all char is even\n",
    "        #       can permute palindrome\n",
    "        #   if num_of_odd_freq == 1\n",
    "        #       can permuate palindrome\n",
    "        #   can't permute to a palindrome\n",
    "        # in short, we can only up to 1 (inclusive) odd char.\n",
    "        \n",
    "        # edge cases\n",
    "        #   single char\n",
    "        #   empty char\n",
    "        \n",
    "        if not s:\n",
    "            return True\n",
    "        \n",
    "        def two_pass(s):\n",
    "            counter = Counter(s)\n",
    "            return True if len([char for char in counter if counter[char] % 2 == 1]) < 2 else False\n",
    "        \n",
    "        # can do this multiple ways..\n",
    "        # using built in Counter, manual Counter using defaultdict..two pass and single pass\n",
    "        num_odds = 0\n",
    "        counter = Counter()\n",
    "        for char in s:\n",
    "            counter[char] += 1\n",
    "            if counter[char] % 2 == 1:\n",
    "                num_odds += 1\n",
    "            else:\n",
    "                num_odds -= 1\n",
    "        \n",
    "        return num_odds < 2"
   ]
  }
 ],
 "metadata": {
  "kernelspec": {
   "display_name": "Python 3",
   "language": "python",
   "name": "python3"
  },
  "language_info": {
   "codemirror_mode": {
    "name": "ipython",
    "version": 3
   },
   "file_extension": ".py",
   "mimetype": "text/x-python",
   "name": "python",
   "nbconvert_exporter": "python",
   "pygments_lexer": "ipython3",
   "version": "3.6.6"
  }
 },
 "nbformat": 4,
 "nbformat_minor": 2
}
