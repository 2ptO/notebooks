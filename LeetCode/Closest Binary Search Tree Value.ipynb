{
 "cells": [
  {
   "cell_type": "markdown",
   "metadata": {},
   "source": [
    "### [Closest Binary Tree Value](https://leetcode.com/problems/closest-binary-search-tree-value/)\n",
    "\n",
    "Given a non-empty binary search tree and a target value, find the value in the BST that is closest to the target.\n",
    "\n",
    "Note:\n",
    "\n",
    "Given target value is a floating point.\n",
    "You are guaranteed to have only one unique value in the BST that is closest to the target.\n",
    "\n",
    "Example:\n",
    "```\n",
    "Input: root = [4,2,5,1,3], target = 3.714286\n",
    "\n",
    "    4\n",
    "   / \\\n",
    "  2   5\n",
    " / \\\n",
    "1   3\n",
    "```\n",
    "\n",
    "Output: 4"
   ]
  },
  {
   "cell_type": "code",
   "execution_count": 2,
   "metadata": {},
   "outputs": [],
   "source": [
    "# Definition for a binary tree node.\n",
    "class TreeNode:\n",
    "    def __init__(self, x):\n",
    "        self.val = x\n",
    "        self.left = None\n",
    "        self.right = None\n",
    "\n",
    "class Solution:\n",
    "    def closestValue(self, root: TreeNode, target: float) -> int:\n",
    "        # traverse the tree\n",
    "        # find the diff between node and target\n",
    "        # if the diff is smaller than the previous diff:\n",
    "        #   pick the current node as the closest\n",
    "        \n",
    "        # preorder traverse\n",
    "        #   node\n",
    "        #       find the diff\n",
    "        #       update closest if this diff is smaller than previous diff\n",
    "        #   left\n",
    "        #   right\n",
    "        \n",
    "        # we will visit all nodes here\n",
    "        # not really using the BST property here.\n",
    "        # to use BST property, we can visit left if the target < node.val else right\n",
    "        \n",
    "        def preorder(node: TreeNode, target: float, result: []):\n",
    "            if node:\n",
    "                if result[0] == None:\n",
    "                    result[0] = abs(node.val - target)\n",
    "                    result[1] = node.val\n",
    "                else:\n",
    "                    nodediff = abs(node.val - target)\n",
    "                    if nodediff < result[0]:\n",
    "                        result[0] = nodediff\n",
    "                        result[1] = node.val\n",
    "                \n",
    "                if target < node.val:\n",
    "                    preorder(node.left, target, result)\n",
    "                elif target > node.val:\n",
    "                    preorder(node.right, target, result)\n",
    "        \n",
    "        result = [None, None]\n",
    "        preorder(root, target, result)\n",
    "        \n",
    "        return result[1]                "
   ]
  }
 ],
 "metadata": {
  "kernelspec": {
   "display_name": "Python 3",
   "language": "python",
   "name": "python3"
  },
  "language_info": {
   "codemirror_mode": {
    "name": "ipython",
    "version": 3
   },
   "file_extension": ".py",
   "mimetype": "text/x-python",
   "name": "python",
   "nbconvert_exporter": "python",
   "pygments_lexer": "ipython3",
   "version": "3.6.6"
  }
 },
 "nbformat": 4,
 "nbformat_minor": 2
}
