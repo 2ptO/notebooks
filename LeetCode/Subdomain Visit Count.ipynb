{
 "cells": [
  {
   "cell_type": "markdown",
   "metadata": {},
   "source": [
    "### [Subdomain Visit Count](https://leetcode.com/problems/subdomain-visit-count/)\n",
    "\n",
    "A website domain like \"discuss.leetcode.com\" consists of various subdomains. At the top level, we have \"com\", at the next level, we have \"leetcode.com\", and at the lowest level, \"discuss.leetcode.com\". When we visit a domain like \"discuss.leetcode.com\", we will also visit the parent domains \"leetcode.com\" and \"com\" implicitly.\n",
    "\n",
    "Now, call a \"count-paired domain\" to be a count (representing the number of visits this domain received), followed by a space, followed by the address. An example of a count-paired domain might be \"9001 discuss.leetcode.com\".\n",
    "\n",
    "We are given a list cpdomains of count-paired domains. We would like a list of count-paired domains, (in the same format as the input, and in any order), that explicitly counts the number of visits to each subdomain.\n",
    "\n",
    "**Example 1:**\n",
    "```\n",
    "Input: \n",
    "[\"9001 discuss.leetcode.com\"]\n",
    "Output: \n",
    "[\"9001 discuss.leetcode.com\", \"9001 leetcode.com\", \"9001 com\"]\n",
    "Explanation: \n",
    "We only have one website domain: \"discuss.leetcode.com\". As discussed above, the subdomain \"leetcode.com\" and \"com\" will also be visited. So they will all be visited 9001 times.\n",
    "```\n",
    "\n",
    "**Example 2:**\n",
    "```\n",
    "Input: \n",
    "[\"900 google.mail.com\", \"50 yahoo.com\", \"1 intel.mail.com\", \"5 wiki.org\"]\n",
    "Output: \n",
    "[\"901 mail.com\",\"50 yahoo.com\",\"900 google.mail.com\",\"5 wiki.org\",\"5 org\",\"1 intel.mail.com\",\"951 com\"]\n",
    "Explanation: \n",
    "We will visit \"google.mail.com\" 900 times, \"yahoo.com\" 50 times, \"intel.mail.com\" once and \"wiki.org\" 5 times. For the subdomains, we will visit \"mail.com\" 900 + 1 = 901 times, \"com\" 900 + 50 + 1 = 951 times, and \"org\" 5 times.\n",
    "```\n",
    "\n",
    "**Notes:**\n",
    "\n",
    "```\n",
    "The length of cpdomains will not exceed 100. \n",
    "The length of each domain name will not exceed 100.\n",
    "Each address will have either 1 or 2 \".\" characters.\n",
    "The input count in any count-paired domain will not exceed 10000.\n",
    "The answer output can be returned in any order.\n",
    "```"
   ]
  },
  {
   "cell_type": "code",
   "execution_count": 1,
   "metadata": {},
   "outputs": [],
   "source": [
    "from collections import defaultdict\n",
    "\n",
    "class Solution(object):\n",
    "    def subdomainVisits(self, cpdomains): \n",
    "        \"\"\"\n",
    "        :type cpdomains: List[str]\n",
    "        :rtype: List[str]\n",
    "        \"\"\"\n",
    "        \n",
    "        # can search for . in the domain \n",
    "        # first split the cp domain into count and domain\n",
    "        # in domain find . from that position till the end\n",
    "        #   forms the subdomain.\n",
    "        \n",
    "        sub_domain_counts = defaultdict(int)\n",
    "        \n",
    "        for cpdomain in cpdomains:\n",
    "            count, domain = cpdomain.split(\" \")\n",
    "            \n",
    "            sub_domain_counts[domain] += int(count)\n",
    "            \n",
    "            for i in range(len(domain)):\n",
    "                if domain[i] == \".\":\n",
    "                    sub_domain = domain[i+1:]\n",
    "                    # old_count = sub_domain_counts.get(sub_domain, 0)\n",
    "                    sub_domain_counts[sub_domain] += int(count)\n",
    "        \n",
    "        return [\"{} {}\".format(count, subdomain) for subdomain, count in sub_domain_counts.items()]\n",
    "                    "
   ]
  },
  {
   "cell_type": "code",
   "execution_count": 2,
   "metadata": {},
   "outputs": [],
   "source": [
    "tests = {\n",
    "    \"test\" : [\n",
    "        {\n",
    "            \"input\": [\"9001 discuss.leetcode.com\"],\n",
    "            \"output\": [\"9001 discuss.leetcode.com\", \"9001 leetcode.com\", \"9001 com\"]\n",
    "        },\n",
    "        {\n",
    "            \"input\": [\"900 google.mail.com\", \"50 yahoo.com\", \"1 intel.mail.com\", \"5 wiki.org\"],\n",
    "            \"output\": [\"901 mail.com\",\"50 yahoo.com\",\"900 google.mail.com\",\"5 wiki.org\",\"5 org\",\"1 intel.mail.com\",\"951 com\"]\n",
    "        }        \n",
    "    ]\n",
    "}"
   ]
  },
  {
   "cell_type": "code",
   "execution_count": 5,
   "metadata": {},
   "outputs": [],
   "source": [
    "s = Solution()\n",
    "for test in tests[\"test\"]:\n",
    "    # count of subdomain visits can be returned in any order.\n",
    "    # hence direct list comparison won't work. we could manually check for\n",
    "    # each count or convert to set and then compare.\n",
    "    assert(set(s.subdomainVisits(test[\"input\"])) == set(test[\"output\"]))"
   ]
  }
 ],
 "metadata": {
  "kernelspec": {
   "display_name": "Python 3",
   "language": "python",
   "name": "python3"
  },
  "language_info": {
   "codemirror_mode": {
    "name": "ipython",
    "version": 3
   },
   "file_extension": ".py",
   "mimetype": "text/x-python",
   "name": "python",
   "nbconvert_exporter": "python",
   "pygments_lexer": "ipython3",
   "version": "3.6.6"
  }
 },
 "nbformat": 4,
 "nbformat_minor": 2
}
