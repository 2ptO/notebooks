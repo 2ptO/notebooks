{
 "cells": [
  {
   "cell_type": "markdown",
   "metadata": {},
   "source": [
    "### [Search Insert Position](https://leetcode.com/problems/search-insert-position/)\n",
    "\n",
    "Given a sorted array and a target value, return the index if the target is found. If not, return the index where it would be if it were inserted in order.\n",
    "\n",
    "You may assume no duplicates in the array.\n",
    "\n",
    "Example 1:\n",
    "```\n",
    "Input: [1,3,5,6], 5\n",
    "Output: 2\n",
    "```\n",
    "Example 2:\n",
    "```\n",
    "Input: [1,3,5,6], 2\n",
    "Output: 1\n",
    "```\n",
    "Example 3:\n",
    "```\n",
    "Input: [1,3,5,6], 7\n",
    "Output: 4\n",
    "```\n",
    "Example 4:\n",
    "```\n",
    "Input: [1,3,5,6], 0\n",
    "Output: 0\n",
    "```"
   ]
  },
  {
   "cell_type": "code",
   "execution_count": 3,
   "metadata": {},
   "outputs": [],
   "source": [
    "class Solution:\n",
    "    def searchInsert(self, nums: [int], target: int) -> int:\n",
    "        # sorted array..\n",
    "        # no duplicates in the array\n",
    "        \n",
    "        # use binary search to search for target\n",
    "        # if target lesser than the lowest, return 0\n",
    "        # if target greater than the highest, return len(nums)\n",
    "        \n",
    "        # edge cases\n",
    "        #   empty nums\n",
    "        \n",
    "        if not nums:\n",
    "            return 0\n",
    "        \n",
    "        if target < nums[0]:\n",
    "            return 0\n",
    "        \n",
    "        if target > nums[-1]:\n",
    "            return len(nums)\n",
    "        \n",
    "        # now do binary search\n",
    "        low = 0\n",
    "        high = len(nums) - 1\n",
    "        \n",
    "        while low <= high:\n",
    "            mid = low + (high - low)//2\n",
    "            if target == nums[mid]:\n",
    "                return mid\n",
    "            elif target < nums[mid]:\n",
    "                high = mid - 1\n",
    "            else:\n",
    "                low = mid + 1\n",
    "        \n",
    "        # come here only when low exceeds high\n",
    "        # insert positon is low\n",
    "        return low"
   ]
  },
  {
   "cell_type": "code",
   "execution_count": 8,
   "metadata": {},
   "outputs": [],
   "source": [
    "tests = {\n",
    "    \"test\" : [\n",
    "        {\n",
    "            \"input\": {\n",
    "                \"nums\": [1, 2, 4, 8],\n",
    "                \"target\": 2\n",
    "            },\n",
    "            \"output\": 1\n",
    "        },\n",
    "        {\n",
    "            \"input\": {\n",
    "                \"nums\": [1, 2, 4, 8],\n",
    "                \"target\": 0                \n",
    "            },\n",
    "            \"output\": 0,\n",
    "        },\n",
    "        {\n",
    "            \"input\": {\n",
    "                \"nums\": [1, 2, 4, 8],\n",
    "                \"target\": 3                \n",
    "            },\n",
    "            \"output\": 2,\n",
    "        },\n",
    "        {\n",
    "            \"input\": {\n",
    "                \"nums\": [1, 2, 4, 8],\n",
    "                \"target\": 10                \n",
    "            },\n",
    "            \"output\": 4,\n",
    "        }\n",
    "\n",
    "    ]\n",
    "}"
   ]
  },
  {
   "cell_type": "code",
   "execution_count": 5,
   "metadata": {},
   "outputs": [],
   "source": [
    "def run_tests():\n",
    "    s = Solution()\n",
    "    for tc in tests[\"test\"]:\n",
    "        nums, target = tc[\"input\"][\"nums\"], tc[\"input\"][\"target\"]\n",
    "        assert(s.searchInsert(nums, target) == tc[\"output\"])"
   ]
  },
  {
   "cell_type": "code",
   "execution_count": 9,
   "metadata": {},
   "outputs": [],
   "source": [
    "run_tests()"
   ]
  },
  {
   "cell_type": "code",
   "execution_count": 10,
   "metadata": {},
   "outputs": [],
   "source": [
    "# This can also be done with built in library \n",
    "import bisect\n",
    "class Solution:\n",
    "    def searchInsert(self, nums: [int], target: int) -> int:\n",
    "        \n",
    "        if not nums:\n",
    "            return 0\n",
    "        \n",
    "        if target < nums[0]:\n",
    "            return 0\n",
    "        \n",
    "        if target > nums[-1]:\n",
    "            return len(nums)\n",
    "        \n",
    "        return bisect.bisect_left(nums, target)"
   ]
  },
  {
   "cell_type": "code",
   "execution_count": 11,
   "metadata": {},
   "outputs": [],
   "source": [
    "run_tests()"
   ]
  }
 ],
 "metadata": {
  "kernelspec": {
   "display_name": "Python 3",
   "language": "python",
   "name": "python3"
  },
  "language_info": {
   "codemirror_mode": {
    "name": "ipython",
    "version": 3
   },
   "file_extension": ".py",
   "mimetype": "text/x-python",
   "name": "python",
   "nbconvert_exporter": "python",
   "pygments_lexer": "ipython3",
   "version": "3.6.6"
  }
 },
 "nbformat": 4,
 "nbformat_minor": 2
}
