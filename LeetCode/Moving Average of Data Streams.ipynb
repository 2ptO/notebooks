{
 "cells": [
  {
   "cell_type": "markdown",
   "metadata": {},
   "source": [
    "### [Moving average of data streams](https://leetcode.com/problems/moving-average-from-data-stream/)\n",
    "\n",
    "Given a stream of integers and a window size, calculate the moving average of all integers in the sliding window.\n",
    "\n",
    "Example:\n",
    "\n",
    "```\n",
    "MovingAverage m = new MovingAverage(3);\n",
    "m.next(1) = 1\n",
    "m.next(10) = (1 + 10) / 2\n",
    "m.next(3) = (1 + 10 + 3) / 3\n",
    "m.next(5) = (10 + 3 + 5) / 3\n",
    "```"
   ]
  },
  {
   "cell_type": "markdown",
   "metadata": {},
   "source": [
    "This can be solved in different ways. Starting off with the easiest one."
   ]
  },
  {
   "cell_type": "code",
   "execution_count": 34,
   "metadata": {},
   "outputs": [],
   "source": [
    "from collections import deque\n",
    "\n",
    "class MovingAverage(object):\n",
    "\n",
    "    def __init__(self, size):\n",
    "        \"\"\"\n",
    "        Initialize your data structure here.\n",
    "        :type size: int\n",
    "        \"\"\"\n",
    "        # given window size\n",
    "        # and a stream of integers\n",
    "        # find moving average of the window\n",
    "        \n",
    "        # need a queue to store the values..since a size is given,\n",
    "        # we can use a bounded queue..with given size\n",
    "        # to limit the number of items in the queue\n",
    "        self.QUEUE_SIZE = size\n",
    "        self.queue = deque(maxlen=self.QUEUE_SIZE)\n",
    "        \n",
    "    def next(self, val):\n",
    "        \"\"\"\n",
    "        :type val: int\n",
    "        :rtype: float\n",
    "        \"\"\"\n",
    "        \n",
    "        # add the val to queue and then calculate moving average\n",
    "        self.queue.append(val)\n",
    "        \n",
    "        # now calculate the average\n",
    "        return sum(self.queue)*1.0/len(self.queue)        \n",
    "        "
   ]
  },
  {
   "cell_type": "markdown",
   "metadata": {},
   "source": [
    "Lets run through some tests for this version of MovingAverage"
   ]
  },
  {
   "cell_type": "code",
   "execution_count": 31,
   "metadata": {},
   "outputs": [],
   "source": [
    "tests = {\n",
    "    \"test\": [\n",
    "        {\n",
    "            \"size\": 3,\n",
    "            \"data\" : [1, 10, 23, 15],\n",
    "            \"moving average\": [1.0,5.5,11.33333,16.0]\n",
    "        },\n",
    "        {\n",
    "            \"size\": 4,\n",
    "            \"data\" : [1, 10, 23, 15, 12, 24, 101, 19],\n",
    "            \"moving average\": [1.0,5.5,11.33333,12.25,15.0,18.5,38.0,39.0]\n",
    "        }        \n",
    "    ]\n",
    "}"
   ]
  },
  {
   "cell_type": "code",
   "execution_count": 30,
   "metadata": {},
   "outputs": [],
   "source": [
    "def runTests(tests):\n",
    "    for test in tests[\"test\"]:\n",
    "        mov = MovingAverage(test[\"size\"])\n",
    "        expMovAvg = test[\"moving average\"]\n",
    "        vals = test[\"data\"]\n",
    "\n",
    "        for index, val in enumerate(vals):\n",
    "            movAvg = mov.next(val)\n",
    "            # convert the return value to expected format\n",
    "            movAvg = float(\"{:.5f}\".format(movAvg))\n",
    "            assert(movAvg == expMovAvg[index])"
   ]
  },
  {
   "cell_type": "code",
   "execution_count": 27,
   "metadata": {},
   "outputs": [],
   "source": [
    "runTests(tests)"
   ]
  },
  {
   "cell_type": "markdown",
   "metadata": {},
   "source": [
    "The previous solution worked good. but we can optimize some more by avoiding the enqueue (.append()) and dequeue (.popleft()) on each call by maintaining a static list of given size. With static list, we don't have to sum every time as we can maintain the sum in a separate variable and just decrement as we throw out old value and increment as we throw in new value."
   ]
  },
  {
   "cell_type": "code",
   "execution_count": 32,
   "metadata": {},
   "outputs": [],
   "source": [
    "class MovingAverage(object):\n",
    "\n",
    "    def __init__(self, size):\n",
    "        \"\"\"\n",
    "        Initialize your data structure here.\n",
    "        :type size: int\n",
    "        \"\"\"\n",
    "        \n",
    "        # set our data structures and variables right\n",
    "        self.valIndex = 0\n",
    "        self.vals = [0] * size\n",
    "        self.WINDOW_SIZE = size\n",
    "        \n",
    "        self.sumOfVals = 0.0\n",
    "        \n",
    "    def next(self, val):\n",
    "        \"\"\"\n",
    "        :type val: int\n",
    "        :rtype: float\n",
    "        \"\"\"\n",
    "        \n",
    "        # subtract the existing val at the front of the window\n",
    "        curId = self.valIndex % self.WINDOW_SIZE\n",
    "        \n",
    "        self.sumOfVals -= self.vals[curId]\n",
    "        \n",
    "        # place the val in its slot\n",
    "        self.vals[curId] = val\n",
    "        # update the next index\n",
    "        self.valIndex = (self.valIndex + 1) \n",
    "        \n",
    "        # add the new value to existing sum\n",
    "        self.sumOfVals += self.vals[curId]\n",
    "            \n",
    "        \n",
    "        return (self.sumOfVals / min(self.valIndex, self.WINDOW_SIZE))        "
   ]
  },
  {
   "cell_type": "code",
   "execution_count": 33,
   "metadata": {},
   "outputs": [],
   "source": [
    "runTests(tests)"
   ]
  }
 ],
 "metadata": {
  "kernelspec": {
   "display_name": "Python 3",
   "language": "python",
   "name": "python3"
  },
  "language_info": {
   "codemirror_mode": {
    "name": "ipython",
    "version": 3
   },
   "file_extension": ".py",
   "mimetype": "text/x-python",
   "name": "python",
   "nbconvert_exporter": "python",
   "pygments_lexer": "ipython3",
   "version": "3.6.6"
  }
 },
 "nbformat": 4,
 "nbformat_minor": 2
}
