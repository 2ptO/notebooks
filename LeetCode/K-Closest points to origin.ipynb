{
 "cells": [
  {
   "cell_type": "markdown",
   "metadata": {},
   "source": [
    "### [K-Closest Points to Origin](https://leetcode.com/problems/k-closest-points-to-origin/)\n",
    "\n",
    "We have a list of points on the plane.  Find the K closest points to the origin (0, 0).\n",
    "\n",
    "(Here, the distance between two points on a plane is the Euclidean distance.)\n",
    "\n",
    "You may return the answer in any order.  The answer is guaranteed to be unique (except for the order that it is in.)\n",
    "\n",
    " \n",
    "**Example 1:**\n",
    "```\n",
    "Input: points = [[1,3],[-2,2]], K = 1\n",
    "Output: [[-2,2]]\n",
    "Explanation: \n",
    "The distance between (1, 3) and the origin is sqrt(10).\n",
    "The distance between (-2, 2) and the origin is sqrt(8).\n",
    "Since sqrt(8) < sqrt(10), (-2, 2) is closer to the origin.\n",
    "We only want the closest K = 1 points from the origin, so the answer is just [[-2,2]].\n",
    "```\n",
    "\n",
    "**Example 2:**\n",
    "\n",
    "```\n",
    "Input: points = [[3,3],[5,-1],[-2,4]], K = 2\n",
    "Output: [[3,3],[-2,4]]\n",
    "(The answer [[-2,4],[3,3]] would also be accepted.)\n",
    "```\n",
    "\n",
    "Note:\n",
    "```\n",
    "1 <= K <= points.length <= 10000\n",
    "-10000 < points[i][0] < 10000\n",
    "-10000 < points[i][1] < 10000\n",
    "```"
   ]
  },
  {
   "cell_type": "code",
   "execution_count": 10,
   "metadata": {},
   "outputs": [],
   "source": [
    "import heapq\n",
    "import math\n",
    "\n",
    "class Solution:\n",
    "    def kClosest(self, points: [[int]], K: int) -> [[int]]:\n",
    "        \n",
    "        # given list of points on a plane\n",
    "        # find K closest points to the origin (0,0)\n",
    "        \n",
    "        # sorted by euclidean distance sqrt((y1 - x1)^2 + (y2 - x2)^2)\n",
    "        \n",
    "        # here second point is 0,0 so..sqrt(x1^2 + x2^2)\n",
    "        \n",
    "        # we could sort the points by their distance to origin\n",
    "        # pick the first k points.\n",
    "        \n",
    "        # or use a miheap..pop k items from the min heap.\n",
    "        # or keep maxheap size at k. so only k items will be maintained at any given instance.\n",
    "        #   reduces the time as heap push/pop limited by size K\n",
    "        \n",
    "        \n",
    "        # edge cases\n",
    "        #   empty list of points\n",
    "        #   want all points..where K = len(points)\n",
    "        #   K should be positive. \n",
    "        \n",
    "        if not points or len(points) == K:\n",
    "            return points\n",
    "        \n",
    "        heap = []\n",
    "        HEAP_SIZE_MAX = K\n",
    "        \n",
    "        for point in points:\n",
    "            x1, x2 = point\n",
    "            distance_from_origin = math.sqrt(math.pow(x1, 2) + math.pow(x2, 2))\n",
    "            if len(heap) < HEAP_SIZE_MAX:\n",
    "                heapq.heappush(heap, (-distance_from_origin, point))\n",
    "            else:\n",
    "                # reached the max size. push the current distance and pop out the unfit point\n",
    "                heapq.heappushpop(heap, (-distance_from_origin, point))\n",
    "        \n",
    "        \n",
    "        # no need to sort the heap since the answer can be returned\n",
    "        # in any order\n",
    "        # this solution runs in O(N log K) time and O(K) space \n",
    "        # if we had gone with pure sorting, it would cost O(NlogN) time\n",
    "        return [p[1] for p in heap]"
   ]
  },
  {
   "cell_type": "code",
   "execution_count": 11,
   "metadata": {},
   "outputs": [],
   "source": [
    "tests = {\n",
    "    \"test\": [\n",
    "        {\n",
    "            \"input\": {\n",
    "                \"points\":[[1,3],[-2,2]],\n",
    "                \"K\": 1\n",
    "            },\n",
    "            \"output\":[[-2,2]]\n",
    "        },\n",
    "        {\n",
    "            \"input\": {\n",
    "                \"points\":[[3,3],[5,-1],[-2,4]],\n",
    "                \"K\": 2\n",
    "            },\n",
    "            \"output\":[[3,3],[-2,4]]\n",
    "        }        \n",
    "    ]\n",
    "}"
   ]
  },
  {
   "cell_type": "code",
   "execution_count": 12,
   "metadata": {},
   "outputs": [],
   "source": [
    "def runTests(tests):\n",
    "    for test in tests[\"test\"]:\n",
    "        s = Solution()\n",
    "        points, K = test[\"input\"][\"points\"], test[\"input\"][\"K\"]\n",
    "        actual_closest_points = s.kClosest(points, K)\n",
    "        for point in actual_closest_points:\n",
    "            assert(point in test[\"output\"])"
   ]
  },
  {
   "cell_type": "code",
   "execution_count": 13,
   "metadata": {},
   "outputs": [],
   "source": [
    "runTests(tests)"
   ]
  },
  {
   "cell_type": "code",
   "execution_count": 8,
   "metadata": {},
   "outputs": [],
   "source": [
    "import math\n",
    "class Solution:\n",
    "    def kClosest(self, points, K):\n",
    "        \"\"\"\n",
    "        :type points: List[List[int]]\n",
    "        :type K: int\n",
    "        :rtype: List[List[int]]\n",
    "        \"\"\"\n",
    "        # an one liner solution.\n",
    "        if not points or len(points) == K:\n",
    "            return points\n",
    "        \n",
    "        points.sort(key=lambda x: math.sqrt(math.pow(x[0], 2) + math.pow(x[1], 2)))\n",
    "        \n",
    "        return points[:K]"
   ]
  },
  {
   "cell_type": "code",
   "execution_count": 9,
   "metadata": {},
   "outputs": [],
   "source": [
    "runTests(tests)"
   ]
  }
 ],
 "metadata": {
  "kernelspec": {
   "display_name": "Python 3",
   "language": "python",
   "name": "python3"
  },
  "language_info": {
   "codemirror_mode": {
    "name": "ipython",
    "version": 3
   },
   "file_extension": ".py",
   "mimetype": "text/x-python",
   "name": "python",
   "nbconvert_exporter": "python",
   "pygments_lexer": "ipython3",
   "version": "3.6.6"
  }
 },
 "nbformat": 4,
 "nbformat_minor": 2
}
