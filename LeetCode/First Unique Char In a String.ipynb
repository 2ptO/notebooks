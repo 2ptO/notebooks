{
 "cells": [
  {
   "cell_type": "markdown",
   "metadata": {},
   "source": [
    "### [First Unique Char in a String](https://leetcode.com/problems/first-unique-character-in-a-string/)\n",
    "\n",
    "Given a string, find the first non-repeating character in it and return it's index. If it doesn't exist, return -1.\n",
    "\n",
    "Examples:\n",
    "```\n",
    "s = \"leetcode\"\n",
    "return 0.\n",
    "\n",
    "s = \"loveleetcode\",\n",
    "return 2.\n",
    "```\n",
    "\n",
    "Note: You may assume the string contain only lowercase letters."
   ]
  },
  {
   "cell_type": "code",
   "execution_count": 14,
   "metadata": {},
   "outputs": [],
   "source": [
    "class Solution:\n",
    "    def firstUniqChar(self, s: str) -> int:\n",
    "        # all lower case letters\n",
    "        # count the frequency..mark their indexes along the way\n",
    "        # once we know the frequency, pick the letters\n",
    "        # with count as 1 (ie. non-repeating) with the lowest\n",
    "        # index.\n",
    "        # if no char has count 1, then return -1\n",
    "        # need a dict to store the frequency\n",
    "        \n",
    "        # edge cases\n",
    "        #   empty s\n",
    "        #   very long string? \n",
    "        #   s with all char repeating at least once\n",
    "        \n",
    "        if not s:\n",
    "            return -1\n",
    "        \n",
    "        \n",
    "        counter = {}\n",
    "        \n",
    "        for index, char in enumerate(s):\n",
    "            if char in counter:\n",
    "                # update the count\n",
    "                counter[char][0] += 1\n",
    "            else:\n",
    "                # start the counter\n",
    "                # mark the index\n",
    "                counter[char] = [1, index]\n",
    "        \n",
    "        # now pick the index of non-repeating char\n",
    "        unique_chars = [\n",
    "                        (char, count[1]) \n",
    "                        for char, count in counter.items() \n",
    "                        if counter[char][0] == 1\n",
    "                       ]\n",
    "        \n",
    "        return min(unique_chars, key=lambda x:x[1])[1] if unique_chars else -1"
   ]
  },
  {
   "cell_type": "markdown",
   "metadata": {},
   "source": [
    "The advantage of this solution is the second traversal is done over the finite set of 26 chars. Whereas, if we use a built in Counter, we will have to walk 's' twice."
   ]
  },
  {
   "cell_type": "code",
   "execution_count": 10,
   "metadata": {},
   "outputs": [],
   "source": [
    "tests = {\n",
    "    \"test\": [\n",
    "        {\n",
    "            \"input\": \"leetcode\",\n",
    "            \"output\": 0\n",
    "         \n",
    "        },\n",
    "        {\n",
    "            \"input\": \"loveleetcode\",\n",
    "            \"output\": 2\n",
    "         \n",
    "        },\n",
    "        {\n",
    "            \"input\": \"leetcodeleet\",\n",
    "            \"output\": 4\n",
    "         \n",
    "        },\n",
    "        {\n",
    "            \"input\": \"\",\n",
    "            \"output\": -1\n",
    "         \n",
    "        },\n",
    "        {\n",
    "            \"input\": \"leetcodeleetcode\",\n",
    "            \"output\": -1\n",
    "         \n",
    "        },\n",
    "        {\n",
    "            \"input\": \"leetcodeleetcodez\",\n",
    "            \"output\": 16\n",
    "        }\n",
    "    ]\n",
    "}"
   ]
  },
  {
   "cell_type": "code",
   "execution_count": 11,
   "metadata": {},
   "outputs": [],
   "source": [
    "def run_tests():\n",
    "    s = Solution()\n",
    "    for tc in tests[\"test\"]:\n",
    "        assert(s.firstUniqChar(tc[\"input\"]) == tc[\"output\"])"
   ]
  },
  {
   "cell_type": "code",
   "execution_count": 12,
   "metadata": {},
   "outputs": [],
   "source": [
    "run_tests()"
   ]
  },
  {
   "cell_type": "code",
   "execution_count": 7,
   "metadata": {},
   "outputs": [],
   "source": [
    "from collections import Counter\n",
    "class Solution:\n",
    "    def firstUniqChar(self, s: str) -> int:\n",
    "        if not s:\n",
    "            return -1\n",
    "        \n",
    "        counter = Counter(s)\n",
    "        \n",
    "        for index, char in enumerate(s):\n",
    "            if counter[char] == 1:\n",
    "                # return the index of the first non-repeating char\n",
    "                return index\n",
    "        else:\n",
    "            return -1"
   ]
  },
  {
   "cell_type": "code",
   "execution_count": 23,
   "metadata": {},
   "outputs": [],
   "source": [
    "run_tests()"
   ]
  }
 ],
 "metadata": {
  "kernelspec": {
   "display_name": "Python 3",
   "language": "python",
   "name": "python3"
  },
  "language_info": {
   "codemirror_mode": {
    "name": "ipython",
    "version": 3
   },
   "file_extension": ".py",
   "mimetype": "text/x-python",
   "name": "python",
   "nbconvert_exporter": "python",
   "pygments_lexer": "ipython3",
   "version": "3.6.6"
  }
 },
 "nbformat": 4,
 "nbformat_minor": 2
}
