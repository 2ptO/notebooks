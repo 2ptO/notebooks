{
 "cells": [
  {
   "cell_type": "markdown",
   "metadata": {},
   "source": [
    "### [Find all duplicates in an array](https://leetcode.com/problems/find-all-duplicates-in-an-array/)\n",
    "\n",
    "Given an array of integers, 1 ≤ a[i] ≤ n (n = size of array), some elements appear twice and others appear once.\n",
    "\n",
    "Find all the elements that appear twice in this array.\n",
    "\n",
    "Could you do it without extra space and in O(n) runtime?\n",
    "\n",
    "Example:\n",
    "```\n",
    "Input:\n",
    "[4,3,2,7,8,2,3,1]\n",
    "\n",
    "Output:\n",
    "[2,3]\n",
    "```"
   ]
  },
  {
   "cell_type": "code",
   "execution_count": 2,
   "metadata": {},
   "outputs": [],
   "source": [
    "class Solution:\n",
    "    def findDuplicates(self, nums: [int]) -> [int]:\n",
    "        # array of integers, of size n\n",
    "        #   1...n\n",
    "        #   some appear once.. some appear twice..\n",
    "        #   find all the elements that appear twice.\n",
    "        \n",
    "        # [4, 3, 2, 7, 8, 2, 3, 1] => [2, 3]\n",
    "        \n",
    "        # search every num.. in nums for repetition.. O(n^2)\n",
    "        # sort.. linear search.. duplicates will be next to each other. O(n log n) + O(n) -> \n",
    "        # counter.. pick n with count==2, O(n) -> but takes extra space\n",
    "        # \n",
    "        # to do it in-place and O(n) time..\n",
    "        # given array contains 1...n, whose length is n\n",
    "        # can we make use of that fact? \n",
    "        \n",
    "        # what if we take mod of each? like a circular buffer?\n",
    "        # nope..that won't work. how do we find duplicates usually?\n",
    "        # using hash table.\n",
    "        # can we build a hash table without an auxiliary table here?\n",
    "        # some sort of mapping..since the values in the nums are also\n",
    "        # 1..n we can use them as indexes too.(*** this is the key here ***)\n",
    "        \n",
    "        # if we mark the visited nums somehow, then upon second visit we\n",
    "        # can catch it easily.\n",
    "        # we can mark the visited nums by negating the existing values first\n",
    "        # if any negative value is seen in the index pointed by the current num,\n",
    "        # then current num is a duplicate.\n",
    "        \n",
    "        # edge cases\n",
    "        # empty array\n",
    "        # all elements appearing twice\n",
    "        if not nums:\n",
    "            return nums\n",
    "        \n",
    "        res = []\n",
    "        for num in nums:\n",
    "            if nums[abs(num)-1] < 0:\n",
    "                res.append(abs(num))\n",
    "            else:\n",
    "                nums[abs(num)-1] *= -1\n",
    "\n",
    "        return res"
   ]
  }
 ],
 "metadata": {
  "kernelspec": {
   "display_name": "Python 3",
   "language": "python",
   "name": "python3"
  },
  "language_info": {
   "codemirror_mode": {
    "name": "ipython",
    "version": 3
   },
   "file_extension": ".py",
   "mimetype": "text/x-python",
   "name": "python",
   "nbconvert_exporter": "python",
   "pygments_lexer": "ipython3",
   "version": "3.6.6"
  }
 },
 "nbformat": 4,
 "nbformat_minor": 2
}
