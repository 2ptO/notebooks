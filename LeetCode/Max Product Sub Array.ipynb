{
 "cells": [
  {
   "cell_type": "markdown",
   "metadata": {},
   "source": [
    "### Maximum Product Subarrray\n",
    "\n",
    "https://leetcode.com/problems/maximum-product-subarray/description/\n",
    "\n",
    "Given an integer array nums, find the contiguous subarray within an array (containing at least one number) which has the largest product.\n",
    "\n",
    "Example 1:\n",
    "```\n",
    "Input: [2,3,-2,4]\n",
    "Output: 6\n",
    "Explanation: [2,3] has the largest product 6.\n",
    "```\n",
    "\n",
    "Example 2:\n",
    "```\n",
    "Input: [-2,0,-1]\n",
    "Output: 0\n",
    "Explanation: The result cannot be 2, because [-2,-1] is not a subarray.\n",
    "```"
   ]
  },
  {
   "cell_type": "code",
   "execution_count": 5,
   "metadata": {},
   "outputs": [],
   "source": [
    "class Solution(object):\n",
    "    def maxProduct(self, nums):\n",
    "        \"\"\"\n",
    "        :type nums: List[int]\n",
    "        :rtype: int\n",
    "        \"\"\"\n",
    "       \n",
    "        # watch out:\n",
    "        #   resultant array can have single digit too\n",
    "        #   all numbers could be negative -> product of negative is positive.\n",
    "        #\n",
    "        # subarray has 0 -> product is 0 -> max(product_of_array_on_left, product_of_array_on_right)\n",
    "        # subarray has even negatives -> product of all numbers in the subarray\n",
    "        # subarray has odd negatives -> split the sub array, \n",
    "        #                               max(product_of_sub_array_without_leftmost_neg, prod_of_sub_array_without_right_most_neg)\n",
    "        # subarray has no 0 or no negatives -> product of all numbers in the subarray\n",
    "        #\n",
    "        # we can write code to find the above values, but that's going to be very\n",
    "        # difficult and time consuming to implement during the interview timeframe.\n",
    "        # so fall back to Kadane's (modified form)\n",
    "        \n",
    "        if not nums:\n",
    "            return 0 # Error case\n",
    "        \n",
    "        if len(nums) == 1:\n",
    "            return nums[0]\n",
    "        \n",
    "        max_prod_real = max_so_far = min_so_far = nums[0]\n",
    "        \n",
    "        for i, n in enumerate(nums[1:]):\n",
    "            # Kadane's for max contiguous array sum\n",
    "            # max_ending_here = max(max_ending_here, max_ending_here + n)\n",
    "            # max_so_far = max(max_ending_here, max_so_far)\n",
    "            #\n",
    "            # above algo is for contiguous sum. cannot apply that directly\n",
    "            # to product because product calculation is impacted by number\n",
    "            # of negative values and zeros in the subarray.\n",
    "            #\n",
    "            # if prev prod is neg, cur value is negative, then new value will be the largest product\n",
    "            # if prev prod is postive, cur is negative, then we hae to keep track of that product\n",
    "            #   so that we can use that when next negative comes in line.\n",
    "            # if prev prod is neg, cur value is positive, then also we hae to the aboce steps\n",
    "            # if prev is pos, and cur is positive, then new product is the max. \n",
    "            # \n",
    "            # so we have to keep track of both max_product and min_product\n",
    "            \n",
    "            \n",
    "            min_so_far = min(min_so_far, min_so_far * n)\n",
    "            max_so_far = max(max_so_far, max_so_far * n)\n",
    "            \n",
    "            max_prod_real = max(max_prod_real, min_so_far, max_so_far)\n",
    "            \n",
    "        \n",
    "        return max_prod_real\n",
    "            "
   ]
  },
  {
   "cell_type": "code",
   "execution_count": 3,
   "metadata": {},
   "outputs": [
    {
     "name": "stdout",
     "output_type": "stream",
     "text": [
      "96\n"
     ]
    }
   ],
   "source": [
    "s = Solution()\n",
    "test_input = [2, 3, -2, 4, -1, 2]\n",
    "print(s.maxProduct(test_input))"
   ]
  }
 ],
 "metadata": {
  "kernelspec": {
   "display_name": "Python 3",
   "language": "python",
   "name": "python3"
  },
  "language_info": {
   "codemirror_mode": {
    "name": "ipython",
    "version": 3
   },
   "file_extension": ".py",
   "mimetype": "text/x-python",
   "name": "python",
   "nbconvert_exporter": "python",
   "pygments_lexer": "ipython3",
   "version": "3.6.4"
  }
 },
 "nbformat": 4,
 "nbformat_minor": 2
}
