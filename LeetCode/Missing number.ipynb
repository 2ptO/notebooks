{
 "cells": [
  {
   "cell_type": "markdown",
   "metadata": {},
   "source": [
    "### [Missing Number](https://leetcode.com/problems/missing-number/description/)\n",
    "\n",
    "Given an array containing n distinct numbers taken from 0, 1, 2, ..., n, find the one that is missing from the array.\n",
    "\n",
    "Example 1:\n",
    "```\n",
    "Input: [3,0,1]\n",
    "Output: 2\n",
    "```\n",
    "Example 2:\n",
    "```\n",
    "Input: [9,6,4,2,3,5,7,0,1]\n",
    "Output: 8\n",
    "```\n",
    "Note:\n",
    "Your algorithm should run in linear runtime complexity. Could you implement it using only constant extra space complexity?"
   ]
  },
  {
   "cell_type": "code",
   "execution_count": 5,
   "metadata": {},
   "outputs": [],
   "source": [
    "class Solution:\n",
    "    def missingNumber(self, nums):\n",
    "        \"\"\"\n",
    "        :type nums: List[int]\n",
    "        :rtype: int\n",
    "        \"\"\"\n",
    "        # find the sum \n",
    "        # nums has 0...n -> number of elements = n + 1\n",
    "        # sum of n 1..n => n(n+1) / 2\n",
    "        # sumN - sum(nums) == missing number\n",
    "        \n",
    "        N = len(nums)\n",
    "        \n",
    "        # will come to edge cases \n",
    "        # no missing number\n",
    "        # \n",
    "        \n",
    "        sumOfNums = sum(nums) # walk the nums list once\n",
    "        actualTotal = (N * (N + 1)) // 2\n",
    "        \n",
    "\n",
    "        return actualTotal - sumOfNums\n",
    "    \n",
    "    # some other ways to solve this\n",
    "    # 1. sort the nums. then iterate to find the missing number\n",
    "    # 2. throw the nums into a set. then iterate in range(0..n) check each num in the set or not\n",
    "    # 3. Bit manipulation using XOR"
   ]
  },
  {
   "cell_type": "code",
   "execution_count": 6,
   "metadata": {},
   "outputs": [],
   "source": [
    "s = Solution()\n",
    "testInputs = [\n",
    "    ([3,0,1], 2),\n",
    "    ([9,6,4,2,3,5,7,0,1], 8),\n",
    "    ([9,6,4,2,3,5,7,8,1], 0)\n",
    "]\n",
    "\n",
    "for nums, expMissingNumber in testInputs:\n",
    "    assert s.missingNumber(nums) == expMissingNumber"
   ]
  }
 ],
 "metadata": {
  "kernelspec": {
   "display_name": "Python 3",
   "language": "python",
   "name": "python3"
  },
  "language_info": {
   "codemirror_mode": {
    "name": "ipython",
    "version": 3
   },
   "file_extension": ".py",
   "mimetype": "text/x-python",
   "name": "python",
   "nbconvert_exporter": "python",
   "pygments_lexer": "ipython3",
   "version": "3.6.4"
  }
 },
 "nbformat": 4,
 "nbformat_minor": 2
}
