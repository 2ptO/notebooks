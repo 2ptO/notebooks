{
 "cells": [
  {
   "cell_type": "markdown",
   "metadata": {},
   "source": [
    "You're given strings J representing the types of stones that are jewels, and S representing the stones you have.  Each character in S is a type of stone you have.  You want to know how many of the stones you have are also jewels.\n",
    "\n",
    "The letters in J are guaranteed distinct, and all characters in J and S are letters. Letters are case sensitive, so \"a\" is considered a different type of stone from \"A\".\n",
    "\n",
    "Example 1:\n",
    "```\n",
    "Input: J = \"aA\", S = \"aAAbbbb\"\n",
    "Output: 3\n",
    "```\n",
    "Example 2:\n",
    "```\n",
    "Input: J = \"z\", S = \"ZZ\"\n",
    "Output: 0\n",
    "```\n",
    "Note:\n",
    "```\n",
    "S and J will consist of letters and have length at most 50.\n",
    "The characters in J are distinct.\n",
    "```"
   ]
  },
  {
   "cell_type": "code",
   "execution_count": 3,
   "metadata": {},
   "outputs": [],
   "source": [
    "class Solution:\n",
    "    def numJewelsInStones(self, J, S):\n",
    "        \"\"\"\n",
    "        :type J: str\n",
    "        :type S: str\n",
    "        :rtype: int\n",
    "        \"\"\"\n",
    "        # chars in J.. distinct. charset = 'a' .. 'z', 'A'...'Z'\n",
    "        # S - stones - can have duplicates too. \n",
    "        # have to find how many stones are also jewels\n",
    "        # take one stone from S, compare with jewels. O(SJ)\n",
    "        # since J is of finite set of characters, we can turn J into a set/hashmap\n",
    "        # take every stone from s and compare with jewelset\n",
    "        #   leads to O(J+S) in time // O(J) to build the jewelset\n",
    "        #   O(J) in space.\n",
    "        \n",
    "        # edge cases\n",
    "        if not J or not S:\n",
    "            # need both J and S to compare\n",
    "            return 0\n",
    "        \n",
    "        jewelSet = set(J)\n",
    "        numJewels = 0\n",
    "        for stone in S:\n",
    "            numJewels += (1 if stone in jewelSet else 0)\n",
    "        \n",
    "        return numJewels"
   ]
  },
  {
   "cell_type": "code",
   "execution_count": 4,
   "metadata": {},
   "outputs": [],
   "source": [
    "testCases = [\n",
    "    ((\"aA\", \"aAAAbbbb\"), 4),\n",
    "    ((\"zZ\", \"zxxxx\"), 1),\n",
    "    ((\"\", \"abAbdz\"), 0),\n",
    "    ((\"abc\", \"\"), 0),\n",
    "    ((\"Ace\", \"ceAjhaA\"), 4)\n",
    "]\n",
    "\n",
    "s = Solution()\n",
    "\n",
    "for testCase in testCases:\n",
    "    testInput, expOutput = testCase\n",
    "    assert(s.numJewelsInStones(testInput[0], testInput[1]) == expOutput)"
   ]
  },
  {
   "cell_type": "markdown",
   "metadata": {},
   "source": [
    "Complexities\n",
    "- Time - O(J + S) // O(J) is from the cost to build the jewel set\n",
    "- Space - O(S) \n"
   ]
  }
 ],
 "metadata": {
  "kernelspec": {
   "display_name": "Python 3",
   "language": "python",
   "name": "python3"
  },
  "language_info": {
   "codemirror_mode": {
    "name": "ipython",
    "version": 3
   },
   "file_extension": ".py",
   "mimetype": "text/x-python",
   "name": "python",
   "nbconvert_exporter": "python",
   "pygments_lexer": "ipython3",
   "version": "3.6.4"
  }
 },
 "nbformat": 4,
 "nbformat_minor": 2
}
