{
 "cells": [
  {
   "cell_type": "markdown",
   "metadata": {},
   "source": [
    "### Simple binary search in a sorted array"
   ]
  },
  {
   "cell_type": "code",
   "execution_count": 8,
   "metadata": {},
   "outputs": [],
   "source": [
    "def binary_search(nums, target):\n",
    "    \"\"\" Search target in the nums list\n",
    "    returns True if target is found else False\n",
    "    Assumes nums is sorted\n",
    "    \"\"\"\n",
    "    low = 0\n",
    "    high = len(nums) - 1\n",
    "    \n",
    "    print(\"Nums = \", nums)\n",
    "    \n",
    "    while low <= high:\n",
    "        mid = low + (high - low) // 2\n",
    "        if nums[mid] > target:\n",
    "            high = mid - 1\n",
    "        elif nums[mid] < target:\n",
    "            low = mid + 1\n",
    "        else:\n",
    "            return True\n",
    "        \n",
    "    return False\n",
    "    "
   ]
  },
  {
   "cell_type": "code",
   "execution_count": 10,
   "metadata": {},
   "outputs": [
    {
     "name": "stdout",
     "output_type": "stream",
     "text": [
      "Nums =  [0, 1, 2, 3, 4, 5, 6, 7, 8, 9]\n",
      "False\n",
      "Nums =  [0, 1, 2, 3, 4, 5, 6, 7, 8, 9]\n",
      "True\n",
      "Nums =  [0]\n",
      "True\n"
     ]
    }
   ],
   "source": [
    "nums = list(range(10))\n",
    "print(binary_search(nums, 11))\n",
    "print(binary_search(nums, 9))\n",
    "print(binary_search(nums[:1], 0))"
   ]
  },
  {
   "cell_type": "code",
   "execution_count": 15,
   "metadata": {},
   "outputs": [],
   "source": [
    "def searchRange(nums, target):\n",
    "        \"\"\"\n",
    "        :type nums: List[int]\n",
    "        :type target: int\n",
    "        :rtype: List[int]\n",
    "        \"\"\"\n",
    "#         nums sorted in ascending order\n",
    "#         find start,end of the given number\n",
    "        \n",
    "#         Input: nums = [5,7,7,8,8,10], target = 8\n",
    "#         Output: [3,4]\n",
    "            \n",
    "#         target = 10\n",
    "#         Output: [5, 5]\n",
    "        \n",
    "#         linear search:\n",
    "#             set start and end to index of target when target is found\n",
    "#             increment end until next number is target\n",
    "        \n",
    "#         How can I optimize?\n",
    "#         binary search? array is sorted, so can use binary search\n",
    "#         lowest and highest index of the number = start and end\n",
    "#         can collect all the index, find the min and max O(n + log(n)) ==> O(n)\n",
    "#         have to search the entire width in the worst case\n",
    "#         say if nums = [5, 6, 7, 8, 8, 8, 8, 8, 8] target = 8, output = [3, 8]\n",
    "        \n",
    "#         can i do in two passes?\n",
    "#         1st pass;\n",
    "#             find target and nums[index_of_target-1] < target\n",
    "#             to find start\n",
    "#         2nd pass:\n",
    "#             find target and nums[index+1] > target\n",
    "#             to find end\n",
    "        \n",
    "#         or use recursive calls\n",
    "#         find target, range in left\n",
    "#         find target, range in right\n",
    "#         min(left, right) max(left, right)\n",
    "\n",
    "        if not nums:\n",
    "            return [-1, -1]\n",
    "        \n",
    "        target_start = -1\n",
    "        target_end = -1\n",
    "        \n",
    "        low = 0\n",
    "        high = len(nums) - 1\n",
    "        \n",
    "        while low <= high:\n",
    "            mid = low + (high - low) // 2\n",
    "            if nums[mid] > target:\n",
    "                high = mid - 1\n",
    "            elif nums[mid] < target:\n",
    "                low = mid + 1\n",
    "            else:    \n",
    "                if (mid < 1 or nums[mid - 1] < target):\n",
    "                    target_start = mid\n",
    "                    break\n",
    "                # Keep going left\n",
    "                high = mid - 1\n",
    "        \n",
    "        if target_start == -1:\n",
    "            # target not found\n",
    "            # so don't have to look for the end range further\n",
    "            return [-1, -1]\n",
    "        \n",
    "        low = 0\n",
    "        high = len(nums)\n",
    "        \n",
    "        while low <= high:\n",
    "            mid = low + (high - low) // 2\n",
    "            if nums[mid] > target:\n",
    "                high = mid - 1\n",
    "            elif nums[mid] < target:\n",
    "                low = mid + 1\n",
    "            else:    \n",
    "                if (mid + 1 >= len(nums) or nums[mid + 1] > target):\n",
    "                    target_end = mid\n",
    "                    break\n",
    "                # Keep going right\n",
    "                low = mid + 1\n",
    "        \n",
    "        return [target_start, target_end]\n",
    "            "
   ]
  },
  {
   "cell_type": "code",
   "execution_count": 21,
   "metadata": {},
   "outputs": [
    {
     "name": "stdout",
     "output_type": "stream",
     "text": [
      "[3, 5]\n",
      "[6, 6]\n",
      "[-1, -1]\n",
      "[1, 4]\n"
     ]
    }
   ],
   "source": [
    "print(searchRange([1, 3, 5, 7, 7, 7, 8], 7))\n",
    "print(searchRange([1, 3, 5, 7, 7, 7, 8], 8))\n",
    "print(searchRange([1, 3, 5, 7, 7, 7, 8], 17))\n",
    "print(searchRange([1, 3, 3, 3, 3], 3))"
   ]
  },
  {
   "cell_type": "code",
   "execution_count": 24,
   "metadata": {},
   "outputs": [
    {
     "name": "stdout",
     "output_type": "stream",
     "text": [
      "4\n"
     ]
    }
   ],
   "source": [
    "def searchLeft(A, target):\n",
    "    l,r=0,len(A)-1\n",
    "    while l<=r:\n",
    "        mid=(l+r)//2\n",
    "        if target>A[mid]:\n",
    "            l=mid+1\n",
    "        else:\n",
    "            r=mid-1\n",
    "    return l\n",
    "\n",
    "print(searchLeft([1,2,3,3,4], 4))"
   ]
  }
 ],
 "metadata": {
  "kernelspec": {
   "display_name": "Python 3",
   "language": "python",
   "name": "python3"
  },
  "language_info": {
   "codemirror_mode": {
    "name": "ipython",
    "version": 3
   },
   "file_extension": ".py",
   "mimetype": "text/x-python",
   "name": "python",
   "nbconvert_exporter": "python",
   "pygments_lexer": "ipython3",
   "version": "3.6.4"
  }
 },
 "nbformat": 4,
 "nbformat_minor": 2
}
