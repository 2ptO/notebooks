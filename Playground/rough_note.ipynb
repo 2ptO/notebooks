{
 "cells": [
  {
   "cell_type": "code",
   "execution_count": 9,
   "metadata": {},
   "outputs": [],
   "source": [
    "nums = list(range(10))\n",
    "def sqr(nums):\n",
    "    for i in range(len(nums)):\n",
    "        nums[i] *= nums[i]\n",
    "    print(\"Squared:\", nums)\n"
   ]
  },
  {
   "cell_type": "code",
   "execution_count": 13,
   "metadata": {},
   "outputs": [
    {
     "name": "stdout",
     "output_type": "stream",
     "text": [
      "Original: [0, 1, 2, 3, 4, 5, 6, 7, 8, 9]\n",
      "Squared: [0, 1, 4, 9, 16]\n",
      "nums5: [0, 1, 2, 3, 4]\n",
      "Nums after calling sqr [0, 1, 2, 3, 4, 5, 6, 7, 8, 9]\n"
     ]
    }
   ],
   "source": [
    "nums5 = nums[:5]\n",
    "print(\"Original:\", nums)\n",
    "sqr(nums[:5])\n",
    "print(\"nums5:\", nums5)\n",
    "print(\"Nums after calling sqr\", nums)"
   ]
  }
 ],
 "metadata": {
  "kernelspec": {
   "display_name": "Python 3",
   "language": "python",
   "name": "python3"
  },
  "language_info": {
   "codemirror_mode": {
    "name": "ipython",
    "version": 3
   },
   "file_extension": ".py",
   "mimetype": "text/x-python",
   "name": "python",
   "nbconvert_exporter": "python",
   "pygments_lexer": "ipython3",
   "version": "3.6.4"
  }
 },
 "nbformat": 4,
 "nbformat_minor": 2
}
