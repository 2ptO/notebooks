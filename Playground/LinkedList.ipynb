{
 "cells": [
  {
   "cell_type": "markdown",
   "metadata": {},
   "source": [
    "#### Experimenting and learning linked list related problems"
   ]
  },
  {
   "cell_type": "code",
   "execution_count": null,
   "metadata": {},
   "outputs": [],
   "source": [
    "class ListNode:\n",
    "    def __init__(self, val):\n",
    "        self.val = val\n",
    "        self.next = None\n",
    "\n",
    "def list_to_linklist(values):\n",
    "    \"\"\" Converts a list of values into a linked list of values\n",
    "    Returns the head of the linked list.\n",
    "    \"\"\"\n",
    "    if not values:\n",
    "        return None\n",
    "    \n",
    "    head = tail = ListNode(values[0])\n",
    "    for i in range(1, len(values)):\n",
    "        tail.next = ListNode(values[i])\n",
    "        tail = tail.next\n",
    "    \n",
    "    return head\n",
    "\n",
    "def traverse_list(head):\n",
    "    node = head\n",
    "    print(\"\")\n",
    "    while node:\n",
    "        print(\"{} \".format(node.val), end = \"\")\n",
    "        node = node.next\n"
   ]
  },
  {
   "cell_type": "markdown",
   "metadata": {},
   "source": [
    "Turning a list into a link list of values"
   ]
  },
  {
   "cell_type": "code",
   "execution_count": 8,
   "metadata": {},
   "outputs": [
    {
     "name": "stdout",
     "output_type": "stream",
     "text": [
      "0 1 2 3 4 "
     ]
    }
   ],
   "source": [
    "nums = list(range(5))\n",
    "nums_head = list_to_linklist(nums)\n",
    "traverse_list(nums_head)"
   ]
  },
  {
   "cell_type": "markdown",
   "metadata": {},
   "source": [
    "Now reversing a list"
   ]
  },
  {
   "cell_type": "code",
   "execution_count": 63,
   "metadata": {},
   "outputs": [
    {
     "name": "stdout",
     "output_type": "stream",
     "text": [
      "\n",
      "0 1 2 3 4 5 6 7 8 9 \n",
      "9 8 7 6 5 4 3 2 1 0 "
     ]
    }
   ],
   "source": [
    "def reverse_list(head):\n",
    "    \"\"\" Reverses a list in place \"\"\"\n",
    "    # 1->2->3->4\n",
    "    # 1<-2->3->4\n",
    "    # 1<-2<-3->4\n",
    "    # x-1<-2<-3<-4\n",
    "    # return the new head\n",
    "    \n",
    "    # start with the defaults\n",
    "    prev = None\n",
    "    node = head\n",
    "    \n",
    "    while node != None:\n",
    "        # Cache the next node\n",
    "#         nextnode = node.next\n",
    "        \n",
    "#         # Turn the direction in the reverse\n",
    "#         node.next = prev\n",
    "#         prev = node\n",
    "        \n",
    "#         # Move on to the next node \n",
    "#         node = nextnode\n",
    "        \n",
    "        node.next, node, prev = prev, node.next, node\n",
    "    \n",
    "    # New head of the reversed list\n",
    "    return prev\n",
    "\n",
    "nums = list(range(10))\n",
    "head = list_to_linklist(nums)\n",
    "traverse_list(head)\n",
    "revhead = reverse_list(head)\n",
    "traverse_list(revhead)\n",
    "\n",
    "    "
   ]
  },
  {
   "cell_type": "markdown",
   "metadata": {},
   "source": [
    "Reverse a list only to a specific point dictated by the endpoint"
   ]
  },
  {
   "cell_type": "code",
   "execution_count": 64,
   "metadata": {},
   "outputs": [
    {
     "name": "stdout",
     "output_type": "stream",
     "text": [
      "\n",
      " is palindrome\n",
      "\n",
      "1  is palindrome\n",
      "\n",
      "1 2 3  is not palindrome\n",
      "\n",
      "1 2  is not palindrome\n",
      "\n",
      "1 2 3 2 1  is palindrome\n",
      "\n",
      "1 2 3 4 5 5 4 3 2 1  is palindrome\n"
     ]
    }
   ],
   "source": [
    "def find_mid_point(head):\n",
    "    \"\"\" \n",
    "    Return the node at the midpoint in the given linked list \n",
    "    \"\"\"\n",
    "    if not head:\n",
    "        return None\n",
    "    \n",
    "    slow = fast = head\n",
    "    while slow and (fast and fast.next):\n",
    "        slow = slow.next\n",
    "        fast = fast.next.next\n",
    "    \n",
    "    return slow\n",
    "    \n",
    "    \n",
    "def reverse_list_until(head, endpoint):\n",
    "    \"\"\" Reverse a given list until the specific endpoint\"\"\"\n",
    "    prev = None\n",
    "    node = head\n",
    "    \n",
    "    while node and node != endpoint:\n",
    "#         nextnode = node.next\n",
    "        \n",
    "#         node.next = prev\n",
    "#         prev = node\n",
    "        \n",
    "#         node = nextnode\n",
    "        node, prev, node.next = node.next, node, prev\n",
    "    \n",
    "    return prev\n",
    "\n",
    "def is_palindrome(head):\n",
    "    \n",
    "    # Empty node and single node cases\n",
    "    if not head or not head.next:\n",
    "        return True\n",
    "    \n",
    "    # Find the mid point\n",
    "    midpoint = find_mid_point(head)\n",
    "    \n",
    "    # Reverse the list from mid point\n",
    "    rev_second_half = reverse_list(midpoint)\n",
    "    \n",
    "    # Compare the first half and the second half values\n",
    "    # and check whether they are mirror of each other\n",
    "    node = head\n",
    "    mirror = rev_second_half\n",
    "    \n",
    "    while node and mirror:\n",
    "        if node.val != mirror.val:\n",
    "            break\n",
    "        node = node.next\n",
    "        mirror = mirror.next\n",
    "    \n",
    "    # If the above loop was broken in the middle, then it is not a\n",
    "    # valid palindrome\n",
    "    is_palindrome = True if (node == None or mirror == None) else False\n",
    "    \n",
    "    # reverse the second half and set the original list as is\n",
    "    reverse_list(rev_second_half)\n",
    "    \n",
    "    return is_palindrome\n",
    "    \n",
    "\n",
    "testlists = [\n",
    "    [], \n",
    "    [1],\n",
    "    [1, 2, 3],\n",
    "    [1, 2],\n",
    "    [1, 2, 3, 2, 1],\n",
    "    [1, 2, 3, 4, 5, 5, 4, 3, 2, 1]\n",
    "]\n",
    "\n",
    "for testlist in testlists:\n",
    "    head = list_to_linklist(testlist)\n",
    "    is_palin = is_palindrome(head)\n",
    "    traverse_list(head)\n",
    "    print(\" is {1}\".format(testlist, \"palindrome\" if is_palin else \"not palindrome\"))\n"
   ]
  }
 ],
 "metadata": {
  "kernelspec": {
   "display_name": "Python 3",
   "language": "python",
   "name": "python3"
  },
  "language_info": {
   "codemirror_mode": {
    "name": "ipython",
    "version": 3
   },
   "file_extension": ".py",
   "mimetype": "text/x-python",
   "name": "python",
   "nbconvert_exporter": "python",
   "pygments_lexer": "ipython3",
   "version": "3.6.4"
  }
 },
 "nbformat": 4,
 "nbformat_minor": 2
}
