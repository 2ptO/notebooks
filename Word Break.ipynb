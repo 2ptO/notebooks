{
 "cells": [
  {
   "cell_type": "markdown",
   "metadata": {},
   "source": [
    "Word Break\n",
    "\n",
    "https://leetcode.com/problems/word-break/description/\n"
   ]
  },
  {
   "cell_type": "code",
   "execution_count": 44,
   "metadata": {},
   "outputs": [
    {
     "name": "stdout",
     "output_type": "stream",
     "text": [
      "[('', 'catsandog'), ('c', 'atsandog'), ('ca', 'tsandog'), ('cat', 'sandog'), ('', 'sandog'), ('s', 'andog'), ('sa', 'ndog'), ('san', 'dog'), ('sand', 'og'), ('sando', 'g'), ('sandog', ''), ('cats', 'andog'), ('catsa', 'ndog'), ('catsan', 'dog'), ('catsand', 'og'), ('catsando', 'g'), ('catsandog', '')] 17\n",
      "{'sandog': False, 'catsandog': False}\n"
     ]
    },
    {
     "data": {
      "text/plain": [
       "False"
      ]
     },
     "execution_count": 44,
     "metadata": {},
     "output_type": "execute_result"
    }
   ],
   "source": [
    "class Solution(object):\n",
    "    def wordBreak(self, string, wordDict):\n",
    "        # generate all possible permutations possible with each letter as starting\n",
    "        # letter of a word\n",
    "        #\n",
    "        # e.g. leetcode \n",
    "        # l eetcode\n",
    "        # le\n",
    "        # lee\n",
    "        # leet\n",
    "        # leetc\n",
    "        # leetco\n",
    "        # ...\n",
    "        # leetcode\n",
    "        # e\n",
    "        # \n",
    "        self.wordset = set(wordDict)\n",
    "        self.memo = {}\n",
    "        self.totalWords = []\n",
    "        ret =  self.wordBreakRecur(string, 0)\n",
    "        print(self.totalWords, len(self.totalWords))\n",
    "        print(self.memo)\n",
    "        return ret\n",
    "        \n",
    "\n",
    "    \n",
    "    def wordBreakRecur(self, s, start):\n",
    "        \n",
    "        if start == len(s):\n",
    "            # reached the end of string\n",
    "            return True\n",
    "        \n",
    "        if s[start:len(s)] in self.memo:\n",
    "            print(\"Returning\", s[start:end], \"from cache\")\n",
    "            return self.memo[s[start:end]]\n",
    "        \n",
    "        for i in range(start, len(s) + 1):\n",
    "            self.totalWords.append((s[start:i], s[i:len(s)]))\n",
    "            if s[start:i] in self.wordset and self.wordBreakRecur(s, i):\n",
    "                self.memo[s[start:i]] = True\n",
    "                return True\n",
    "        \n",
    "        self.memo[s[start:i]] = False\n",
    "        return False\n",
    "                \n",
    "        \n",
    "       \n",
    "s = Solution()\n",
    "testWord = \"catsandog\"\n",
    "wordDict = [\"cat\", \"and\", \"og\"]\n",
    "s.wordBreak(testWord, wordDict)\n"
   ]
  },
  {
   "cell_type": "code",
   "execution_count": null,
   "metadata": {},
   "outputs": [],
   "source": []
  },
  {
   "cell_type": "code",
   "execution_count": null,
   "metadata": {},
   "outputs": [],
   "source": []
  }
 ],
 "metadata": {
  "kernelspec": {
   "display_name": "Python 3",
   "language": "python",
   "name": "python3"
  },
  "language_info": {
   "codemirror_mode": {
    "name": "ipython",
    "version": 3
   },
   "file_extension": ".py",
   "mimetype": "text/x-python",
   "name": "python",
   "nbconvert_exporter": "python",
   "pygments_lexer": "ipython3",
   "version": "3.6.4"
  }
 },
 "nbformat": 4,
 "nbformat_minor": 2
}
